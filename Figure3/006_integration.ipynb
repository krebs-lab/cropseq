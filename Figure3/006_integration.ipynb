{
 "cells": [
  {
   "cell_type": "code",
   "execution_count": null,
   "metadata": {
    "vscode": {
     "languageId": "r"
    }
   },
   "outputs": [],
   "source": [
    "analysis <- \"Cropseq_all_integrated\"\n",
    "organ <- \"murine\"\n",
    "cellRangerVersion <- 3\n",
    "\n",
    "library(Seurat)\n",
    "library(ggplot2)\n",
    "library(gridExtra)\n",
    "library(stringi)\n",
    "library(grid)\n",
    "library(gridExtra)\n",
    "\n",
    "root <- getwd()\n",
    "data <- file.path(root, \"data\")\n",
    "raw <- file.path(data, \"raw\")\n",
    "RData <- file.path(data, \"RData\")\n",
    "processed <- file.path(data, \"processed\")\n",
    "pdf <- file.path(processed, \"pdf\")\n",
    "csv <- file.path(processed, \"csv\")\n",
    "interim <- file.path(data, \"interim\")\n",
    "external <- file.path(data, \"external\")\n",
    "notebooks <- file.path(root, \"notebook\")\n",
    "source(file.path(notebooks, \"functions.R\"))\n",
    "\n",
    "sfile <- function(path, name){\n",
    "    return(file.path(path, paste0(analysis, \"_\", organ, \"__\", name)))\n",
    "}"
   ]
  },
  {
   "cell_type": "code",
   "execution_count": null,
   "metadata": {
    "vscode": {
     "languageId": "r"
    }
   },
   "outputs": [],
   "source": [
    "loadRawSeurat <- function(projectName) {\n",
    "    rds_filename <- file.path(RData,\n",
    "                              paste0(\"Cropseq_\",\n",
    "                                     projectName,\n",
    "                                     \"_\",\n",
    "                                     organ,\n",
    "                                     \"__\",\n",
    "                                     \"raw_seuratObject.RDS\"))\n",
    "\n",
    "    if (!file.exists(rds_filename)) {\n",
    "        stop(message(paste0(\"RDS file \", rds_filename, \" does not exist!\")))\n",
    "        return(NA)\n",
    "    } else {\n",
    "        obj <- readRDS(rds_filename)\n",
    "        message(paste0(\"Loading Seurat object '\", projectName, \"' (\", nrow(obj@meta.data), \" cells)\"))\n",
    "        return(obj)\n",
    "    }\n",
    "}"
   ]
  },
  {
   "cell_type": "code",
   "execution_count": null,
   "metadata": {
    "vscode": {
     "languageId": "r"
    }
   },
   "outputs": [],
   "source": [
    "seu.singlets.19_5 <- loadRawSeurat(\"19_5\")\n",
    "seu.singlets.19_9_1 <- loadRawSeurat(\"19_9_1\")\n",
    "seu.singlets.19_9_2 <- loadRawSeurat(\"19_9_2\")\n",
    "seu.singlets.19_23_1 <- loadRawSeurat(\"19_23_1\")\n",
    "seu.singlets.19_23_2 <- loadRawSeurat(\"19_23_2\")"
   ]
  },
  {
   "cell_type": "code",
   "execution_count": null,
   "metadata": {
    "vscode": {
     "languageId": "r"
    }
   },
   "outputs": [],
   "source": [
    "totalControls <- ncol(seu.singlets.19_5) +\n",
    "    ncol(seu.singlets.19_9_1) +\n",
    "    ncol(seu.singlets.19_9_2) +\n",
    "    ncol(seu.singlets.19_23_1) +\n",
    "    ncol(seu.singlets.19_23_2)"
   ]
  },
  {
   "cell_type": "code",
   "execution_count": null,
   "metadata": {
    "vscode": {
     "languageId": "r"
    }
   },
   "outputs": [],
   "source": [
    "ob.list <- list(seu.singlets.19_5,\n",
    "                seu.singlets.19_9_1,\n",
    "                seu.singlets.19_9_2,\n",
    "                seu.singlets.19_23_1,\n",
    "                seu.singlets.19_23_2\n",
    "               )"
   ]
  },
  {
   "cell_type": "code",
   "execution_count": null,
   "metadata": {
    "vscode": {
     "languageId": "r"
    }
   },
   "outputs": [],
   "source": [
    "for (i in 1:length(ob.list)) {\n",
    "    ob.list[[i]] <- NormalizeData(ob.list[[i]],\n",
    "                                  verbose = TRUE)\n",
    "\n",
    "    ob.list[[i]] <- FindVariableFeatures(ob.list[[i]],\n",
    "                                         selection.method = \"vst\",\n",
    "                                         nfeatures = 2000,\n",
    "                                         verbose = TRUE)\n",
    "\n",
    "}"
   ]
  },
  {
   "cell_type": "code",
   "execution_count": null,
   "metadata": {
    "vscode": {
     "languageId": "r"
    }
   },
   "outputs": [],
   "source": [
    "seu.anchors <- FindIntegrationAnchors(object.list = ob.list, dims = 1:30)"
   ]
  },
  {
   "cell_type": "code",
   "execution_count": null,
   "metadata": {
    "vscode": {
     "languageId": "r"
    }
   },
   "outputs": [],
   "source": [
    "seu.singlets.integrated <- IntegrateData(anchorset = seu.anchors, dims = 1:30)"
   ]
  },
  {
   "cell_type": "code",
   "execution_count": null,
   "metadata": {
    "vscode": {
     "languageId": "r"
    }
   },
   "outputs": [],
   "source": [
    "DefaultAssay(object = seu.singlets.integrated) <- \"integrated\""
   ]
  },
  {
   "cell_type": "code",
   "execution_count": null,
   "metadata": {
    "vscode": {
     "languageId": "r"
    }
   },
   "outputs": [],
   "source": [
    "seu.singlets.integrated <- ScaleData(object = seu.singlets.integrated, verbose = FALSE)"
   ]
  },
  {
   "cell_type": "code",
   "execution_count": null,
   "metadata": {
    "vscode": {
     "languageId": "r"
    }
   },
   "outputs": [],
   "source": [
    "seu.singlets.integrated <- RunPCA(object = seu.singlets.integrated, npcs = 30, verbose = FALSE)"
   ]
  },
  {
   "cell_type": "code",
   "execution_count": null,
   "metadata": {
    "vscode": {
     "languageId": "r"
    }
   },
   "outputs": [],
   "source": [
    "seu.singlets.integrated <- RunUMAP(object = seu.singlets.integrated,\n",
    "                                   reduction = \"pca\", \n",
    "                                   dims = 1:30, verbose = FALSE)"
   ]
  },
  {
   "cell_type": "code",
   "execution_count": null,
   "metadata": {
    "vscode": {
     "languageId": "r"
    }
   },
   "outputs": [],
   "source": [
    "cc.genes <- readLines(con = file.path(external, \"regev_lab_cell_cycle_genes.txt\"))\n",
    "s.genes <- stri_trans_totitle(cc.genes[1:43])\n",
    "g2m.genes <- stri_trans_totitle(cc.genes[44:97])\n",
    "\n",
    "seu.singlets.integrated <- CellCycleScoring(object = seu.singlets.integrated,\n",
    "                                 s.features = s.genes,\n",
    "                                 g2m.features = g2m.genes,\n",
    "                                 set.ident = TRUE)"
   ]
  },
  {
   "cell_type": "code",
   "execution_count": null,
   "metadata": {
    "vscode": {
     "languageId": "r"
    }
   },
   "outputs": [],
   "source": [
    "Freq_phase_data <- data.frame(table(seu.singlets.integrated@meta.data[which(\n",
    "                                seu.singlets.integrated@meta.data$gRNA_group == \"control\"), \"Phase\"]),\n",
    "           group=rep(\"control\",3))\n",
    "\n",
    "for(gR_group in names(table(seu.singlets.integrated@meta.data$gRNA_group))){\n",
    "    if(gR_group == \"control\") next\n",
    "    current_table <- table(seu.singlets.integrated@meta.data[which(\n",
    "                                seu.singlets.integrated@meta.data$gRNA_group == gR_group),\"Phase\"])\n",
    "\n",
    "    current_group <- data.frame(current_table,\n",
    "                               group=rep(gR_group, length(current_table)))\n",
    "\n",
    "    Freq_phase_data <- rbind(Freq_phase_data, current_group)\n",
    "}\n",
    "\n",
    "\n",
    "p1 <- ggplot(Freq_phase_data, aes(group, Freq, fill=Var1)) +\n",
    "geom_bar(position = position_fill(reverse = TRUE), stat=\"Identity\", color=\"black\") +\n",
    "labs(x=\"\", y=\"\", fill=\"Cluster\") +\n",
    "theme(axis.text.x = element_text(angle=90, hjust = 1), axis.text.y = element_text(size=4))\n",
    "\n",
    "p2 <- ggplot(Freq_phase_data, aes(group, Freq, fill=Var1)) +\n",
    "geom_bar(position = position_stack(reverse = TRUE), stat=\"Identity\", color=\"black\") +\n",
    "labs(x=\"\", y=\"\", fill=\"Phase\") +\n",
    "theme(axis.text.x = element_text(angle=90, hjust = 1), axis.text.y = element_text(size=4))\n",
    "\n",
    "p2 + p1\n",
    "\n",
    "pdf(sfile(pdf, \"Ratio_gRNA_groups_Phase.pdf\"))\n",
    "grid.arrange(p2, p1, ncol=1)\n",
    "dev.off()"
   ]
  },
  {
   "cell_type": "code",
   "execution_count": null,
   "metadata": {
    "vscode": {
     "languageId": "r"
    }
   },
   "outputs": [],
   "source": [
    "seu.singlets.integrated <- seu.singlets.integrated[,seu.singlets.integrated@meta.data$Phase == \"G1\"]"
   ]
  },
  {
   "cell_type": "code",
   "execution_count": null,
   "metadata": {
    "vscode": {
     "languageId": "r"
    }
   },
   "outputs": [],
   "source": [
    "# Cluster analysis and UMAP\n",
    "seu.singlets.integrated <- FindNeighbors(seu.singlets.integrated, dims = 1:10)\n",
    "seu.singlets.integrated <- FindClusters(seu.singlets.integrated, resolution = 0.5)"
   ]
  },
  {
   "cell_type": "code",
   "execution_count": null,
   "metadata": {
    "vscode": {
     "languageId": "r"
    }
   },
   "outputs": [],
   "source": [
    "plot1 <- DimPlot(seu.singlets.integrated, reduction = \"umap\")\n",
    "\n",
    "pdf(sfile(pdf, \"ClusterAnalysis_integrated_batchCorrect_UMAP_plot.pdf\"))\n",
    "plot1\n",
    "dev.off()\n",
    "\n",
    "plot1"
   ]
  },
  {
   "cell_type": "code",
   "execution_count": null,
   "metadata": {
    "vscode": {
     "languageId": "r"
    }
   },
   "outputs": [],
   "source": [
    "Th17_genes <- c(\"Rorc\", \"Il17a\", \"Il17f\", \"Il23r\", \"Il6ra\", \"Il22\", \"Ccr6\")\n",
    "\n",
    "Th1_genes <- c(\"Tbx21\", \"Ifng\", \"Ccr5\", \"Ccl5\", \"Cxcr3\", \"Il12rb1\")\n",
    "\n",
    "Treg_genes <- c(\"Lag3\", \"Havcr2\", \"Pdcd1\", \"Ctla4\", \"Itga1\",\n",
    "                \"Foxp3\", \"Maf\", \"Irf1\", \"Batf\",\n",
    "                \"Il12rb2\", \"Tnfrsf18\", \"Nfil3\", \"Ahr\", \"Rora\",\"Il2ra\", \"Icos\")"
   ]
  },
  {
   "cell_type": "code",
   "execution_count": null,
   "metadata": {
    "vscode": {
     "languageId": "r"
    }
   },
   "outputs": [],
   "source": [
    "DefaultAssay(seu.singlets.integrated)<-\"RNA\""
   ]
  },
  {
   "cell_type": "code",
   "execution_count": null,
   "metadata": {
    "vscode": {
     "languageId": "r"
    }
   },
   "outputs": [],
   "source": [
    "seu.singlets.integrated <- AddModuleScore(seu.singlets.integrated,\n",
    "                                          ctrl = 80,\n",
    "                               name = 'Th17_Sig',\n",
    "                               features = list(Th17_genes))\n",
    "\n",
    "seu.singlets.integrated <- AddModuleScore(seu.singlets.integrated,\n",
    "                                          ctrl = 80,\n",
    "                               name = 'Th1_Sig',\n",
    "                               features = list(Th1_genes))\n",
    "\n",
    "seu.singlets.integrated <- AddModuleScore(seu.singlets.integrated,\n",
    "                                          ctrl = 80,\n",
    "                               name = 'Treg_Sig',\n",
    "                               features = list(Treg_genes))"
   ]
  },
  {
   "cell_type": "code",
   "execution_count": null,
   "metadata": {
    "vscode": {
     "languageId": "r"
    }
   },
   "outputs": [],
   "source": [
    "plot1 <- VlnPlot(seu.singlets.integrated, features = c(\"Th17_Sig1\"), sort = FALSE, pt.size = 0) + \n",
    "            stat_summary(fun = median, geom='point', size = 25, colour = \"black\", shape = 95) +\n",
    "            NoLegend()\n",
    "\n",
    "plot2 <- VlnPlot(seu.singlets.integrated, features = c(\"Th1_Sig1\"), sort = FALSE, pt.size = 0) + \n",
    "            stat_summary(fun = median, geom='point', size = 25, colour = \"black\", shape = 95) +\n",
    "            NoLegend()\n",
    "plot3 <- VlnPlot(seu.singlets.integrated, features = c(\"Treg_Sig1\"), sort = FALSE, pt.size = 0) + \n",
    "            stat_summary(fun = median, geom='point', size = 25, colour = \"black\", shape = 95) +\n",
    "            NoLegend()\n",
    "\n",
    "plot1\n",
    "plot2\n",
    "plot3\n",
    "\n",
    "pdf(sfile(pdf, \"Signature_scores_integrated_batchCorrect.pdf\"), width=6, height=18)\n",
    "plot1 + plot2 + plot3\n",
    "dev.off()"
   ]
  },
  {
   "cell_type": "code",
   "execution_count": null,
   "metadata": {
    "vscode": {
     "languageId": "r"
    }
   },
   "outputs": [],
   "source": [
    "# Exclude outlier gRNA (Cropseq_19_9_1 in gRNA_IL-23R_3_gene)\n",
    "cells.to.use <- rownames(seu.singlets.integrated@meta.data[seu.singlets.integrated@meta.data$gRNA ==\n",
    "                                                           \"gRNA_IL-23R_3_gene\" &\n",
    "                                  seu.singlets.integrated@meta.data$orig.ident == \"Cropseq_19_9_1\",])"
   ]
  },
  {
   "cell_type": "code",
   "execution_count": null,
   "metadata": {
    "vscode": {
     "languageId": "r"
    }
   },
   "outputs": [],
   "source": [
    "seu.singlets.integrated <- subset(seu.singlets.integrated, cells = cells.to.use, invert = TRUE)"
   ]
  },
  {
   "cell_type": "code",
   "execution_count": null,
   "metadata": {
    "vscode": {
     "languageId": "r"
    }
   },
   "outputs": [],
   "source": [
    "Th17_barcodes <- rownames(seu.singlets.integrated@meta.data[seu.singlets.integrated@meta.data$seurat_clusters %in% c(1, 5) &\n",
    "                                                 seu.singlets.integrated@meta.data$gRNA_group == \"control\",])\n",
    "\n",
    "message(paste0(\"Found \", length(Th17_barcodes), \" cells in Th17 control subset\"))\n",
    "\n",
    "Th1_barcodes <- rownames(seu.singlets.integrated@meta.data[seu.singlets.integrated@meta.data$seurat_clusters %in% c(3) &\n",
    "                                                seu.singlets.integrated@meta.data$gRNA_group == \"control\",])\n",
    "\n",
    "message(paste0(\"Found \", length(Th1_barcodes), \" cells in Th1 control subset\"))\n",
    "\n",
    "\n",
    "Treg_barcodes <- rownames(seu.singlets.integrated@meta.data[seu.singlets.integrated@meta.data$seurat_clusters %in% c(0, 6) &\n",
    "                                                 seu.singlets.integrated@meta.data$gRNA_group == \"control\",])\n",
    "\n",
    "message(paste0(\"Found \", length(Treg_barcodes), \" cells in Treg control subset\"))"
   ]
  },
  {
   "cell_type": "code",
   "execution_count": null,
   "metadata": {
    "vscode": {
     "languageId": "r"
    }
   },
   "outputs": [],
   "source": [
    "groups <- unique(seu.singlets@meta.data$gRNA_group)"
   ]
  },
  {
   "cell_type": "code",
   "execution_count": null,
   "metadata": {
    "vscode": {
     "languageId": "r"
    }
   },
   "outputs": [],
   "source": [
    "get_UMAP_Median_by_cells <- function(seuObj, cells, group) {\n",
    "    seuSubset <- subset(seuObj, cells = cells)\n",
    "    umapSubset <- data.frame(Embeddings(seuSubset, reduction = \"umap\"))\n",
    "    return(data.frame(group = group,\n",
    "                      umap1 = median(umapSubset$UMAP_1),\n",
    "                      umap2 = median(umapSubset$UMAP_2),\n",
    "                      counts = length(rownames(seuSubset@meta.data))))\n",
    "}"
   ]
  },
  {
   "cell_type": "code",
   "execution_count": null,
   "metadata": {
    "vscode": {
     "languageId": "r"
    }
   },
   "outputs": [],
   "source": [
    "getControlGroupLines <- function(umapMedians) {\n",
    "    centerControl <- umapMedians[umapMedians$group == \"control\",]\n",
    "    controlCoords <- data.frame()\n",
    "    transDiffSubet <- subset(umapMedians, grepl(\"_control$\", group))\n",
    "    for (group in transDiffSubet$group) {\n",
    "        targetControl <- umapMedians[umapMedians$group == group,]\n",
    "        controlCoords <- rbind(controlCoords, data.frame(x1=centerControl$umap1,\n",
    "                                                         y1=centerControl$umap2,\n",
    "                                                         x2=targetControl$umap1,\n",
    "                                                         y2=targetControl$umap2))\n",
    "    }\n",
    "    return(controlCoords)\n",
    "}"
   ]
  },
  {
   "cell_type": "code",
   "execution_count": null,
   "metadata": {
    "vscode": {
     "languageId": "r"
    }
   },
   "outputs": [],
   "source": [
    "getClusterBarcodes <- function(seuObj, cluster) {\n",
    "    barcodes <- rownames(seuObj@meta.data[seuObj@meta.data$seurat_clusters %in% c(cluster),])\n",
    "    message(paste0(\"Found \", length(barcodes), \" cells in cluster \", cluster))\n",
    "    return(barcodes)\n",
    "}"
   ]
  },
  {
   "cell_type": "code",
   "execution_count": null,
   "metadata": {
    "vscode": {
     "languageId": "r"
    }
   },
   "outputs": [],
   "source": [
    "UMAP_Medians <- data.frame()\n",
    "\n",
    "for (g in 1:length(groups)) {\n",
    "    if (groups[g] != \"control\") {\n",
    "        UMAP_Medians <- rbind(UMAP_Medians, get_UMAP_Median_by_cells(seuObj = seu.singlets.integrated,\n",
    "                           cells = rownames(seu.singlets.integrated@meta.data[\n",
    "                              seu.singlets.integrated@meta.data$gRNA_group == groups[g],]),\n",
    "                           group = groups[g]))\n",
    "    }\n",
    "}\n",
    "\n",
    "# Add UMAP Median for control subsets\n",
    "\n",
    "UMAP_Medians <- rbind(UMAP_Medians, get_UMAP_Median_by_cells(seuObj = seu.singlets.integrated,\n",
    "                             cells = Th17_barcodes,\n",
    "                             group = \"Th17_control\"))\n",
    "\n",
    "\n",
    "UMAP_Medians <- rbind(UMAP_Medians, get_UMAP_Median_by_cells(seuObj = seu.singlets.integrated,\n",
    "                             cells = Th1_barcodes,\n",
    "                             group = \"Th1_control\"))\n",
    "\n",
    "\n",
    "UMAP_Medians <- rbind(UMAP_Medians, get_UMAP_Median_by_cells(seuObj = seu.singlets.integrated,\n",
    "                             cells = Treg_barcodes,\n",
    "                             group = \"Treg_control\"))\n",
    "\n",
    "\n",
    "# All control subset\n",
    "UMAP_Medians <- rbind(UMAP_Medians, get_UMAP_Median_by_cells(seuObj = seu.singlets.integrated,\n",
    "                             cells = rownames(seu.singlets.integrated@meta.data[seu.singlets.integrated@meta.data$gRNA_group == \"control\",]),\n",
    "                             group = \"control\"))\n",
    "\n",
    "\n",
    "\n",
    "library(ggrepel)\n",
    "\n",
    "ggtheme <- theme(plot.title = element_text(face = 'bold',size = 18, hjust = 0.5),\n",
    "    axis.title = element_text(size=8),\n",
    "    axis.text = element_text(size=8),\n",
    "    legend.position=\"none\")\n",
    "\n",
    "\n",
    "p1 <- ggplot(UMAP_Medians, aes(umap1, umap2)) +\n",
    "    geom_segment(data=getControlGroupLines(UMAP_Medians),\n",
    "                 aes(x = x1, y = y1, xend = x2, yend = y2),\n",
    "                 color=\"#cccccc\",\n",
    "                 lineend=\"round\", linejoin=\"round\",\n",
    "                 arrow=arrow(length = unit(0.1, \"inches\")),\n",
    "                 size=1) +\n",
    "    geom_point(aes(size=counts), color=\"black\") +\n",
    "    geom_point(data = subset(UMAP_Medians, grepl(\"_control$\", group)),\n",
    "               color=\"blue\",\n",
    "               aes(umap1, umap2, size=counts)) +\n",
    "    geom_point(data = subset(UMAP_Medians, grepl(\"^control$\", group)),\n",
    "               color=\"red\",\n",
    "               aes(umap1, umap2, size=counts)) +\n",
    "    labs(x=\"UMAP_1\", y=\"UMAP_2\", title=\"UMAP Medians per gRNA group\") +\n",
    "    geom_label_repel(aes(label=group), size=2.5, alpha=.7, max.overlaps = 15) +\n",
    "    theme_classic() + theme(aspect.ratio=1) + coord_fixed()\n",
    "\n",
    "p1\n",
    "\n",
    "pdf(sfile(pdf, \"UMAP_median_bygRNA_group.pdf\"), useDingbats = FALSE, width=6, height=6)\n",
    "p1\n",
    "dev.off()"
   ]
  },
  {
   "cell_type": "code",
   "execution_count": null,
   "metadata": {
    "vscode": {
     "languageId": "r"
    }
   },
   "outputs": [],
   "source": [
    "# save current results\n",
    "saveRDS(seu.singlets.integrated, sfile(RData, \"gRNA_integrated_seuratObject.RDS\"))"
   ]
  },
  {
   "cell_type": "code",
   "execution_count": null,
   "metadata": {
    "vscode": {
     "languageId": "r"
    }
   },
   "outputs": [],
   "source": [
    "# Seurat object is then converted to h5ad object using SeuratDisk\n",
    "# See https://mojaveazure.github.io/seurat-disk/articles/convert-anndata.html"
   ]
  }
 ],
 "metadata": {
  "kernelspec": {
   "display_name": "R",
   "language": "R",
   "name": "ir"
  },
  "language_info": {
   "codemirror_mode": "r",
   "file_extension": ".r",
   "mimetype": "text/x-r-source",
   "name": "R",
   "pygments_lexer": "r",
   "version": "3.6.1"
  }
 },
 "nbformat": 4,
 "nbformat_minor": 4
}
