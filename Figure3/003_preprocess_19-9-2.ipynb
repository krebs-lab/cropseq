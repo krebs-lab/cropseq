{
 "cells": [
  {
   "cell_type": "code",
   "execution_count": null,
   "metadata": {
    "vscode": {
     "languageId": "r"
    }
   },
   "outputs": [],
   "source": [
    "analysis <- \"Cropseq_19_9_2\"\n",
    "projectPath <- \"19_9_2\"\n",
    "organ <- \"murine\"\n",
    "cellRangerVersion <- 3\n",
    "\n",
    "library(Seurat)\n",
    "library(ggplot2)\n",
    "library(gridExtra)\n",
    "library(stringi)\n",
    "library(grid)\n",
    "library(gridExtra)\n",
    "\n",
    "root <- getwd()\n",
    "data <- file.path(root, \"data\")\n",
    "raw <- file.path(data, \"raw\")\n",
    "RData <- file.path(data, \"RData\")\n",
    "processed <- file.path(data, \"processed\")\n",
    "pdf <- file.path(processed, \"pdf\")\n",
    "csv <- file.path(processed, \"csv\")\n",
    "interim <- file.path(data, \"interim\")\n",
    "external <- file.path(data, \"external\")\n",
    "notebooks <- file.path(root, \"notebook\")\n",
    "source(file.path(notebooks, \"functions.R\"))\n",
    "\n",
    "sfile <- function(path, name){\n",
    "    return(file.path(path, paste0(analysis, \"_\", organ, \"__\", name)))\n",
    "}"
   ]
  },
  {
   "cell_type": "code",
   "execution_count": null,
   "metadata": {
    "vscode": {
     "languageId": "r"
    }
   },
   "outputs": [],
   "source": [
    "convertTo_cellgRNA_table <- function(matrix){\n",
    "    rows <- rownames(matrix)\n",
    "    cols <- colnames(matrix)\n",
    "    cell_gRNA_tab <- data.frame(cell_barcode =  cols, stringsAsFactors = FALSE)\n",
    "    cell_gRNA_tab$gRNA <- sapply(cell_gRNA_tab$cell_barcode, function(x){\n",
    "        if(!(TRUE %in% (matrix[,x] >= 1))) NA\n",
    "        else paste0(rows[matrix[,x] >= 1], collapse =\"|\")\n",
    "    })\n",
    "    cell_gRNA_tab$ngRNA <- colSums(matrix >= 1)\n",
    "    return(cell_gRNA_tab)\n",
    "}"
   ]
  },
  {
   "cell_type": "code",
   "execution_count": null,
   "metadata": {
    "vscode": {
     "languageId": "r"
    }
   },
   "outputs": [],
   "source": [
    "normalize_expression <- function(matrix, scaling=10000){\n",
    "    norm_matrix <- matrix(0, nrow=nrow(matrix), ncol=ncol(matrix))\n",
    "    rownames(norm_matrix) <- rownames(matrix)\n",
    "    colnames(norm_matrix) <- colnames(matrix)\n",
    "    lib_size <- colSums(matrix)\n",
    "    norm_matrix <- log2(1 + t(t(matrix)/lib_size) * scaling)\n",
    "    return(norm_matrix)\n",
    "}"
   ]
  },
  {
   "cell_type": "code",
   "execution_count": null,
   "metadata": {
    "vscode": {
     "languageId": "r"
    }
   },
   "outputs": [],
   "source": [
    "# Load 10X data from raw data\n",
    "files_10x <- load.10x(file.path(raw, projectPath), cellranger.version = cellRangerVersion)\n",
    "rownames(files_10x$matrix.mtx) <-  make.unique(as.vector(files_10x$features.tsv$V2))\n",
    "colnames(files_10x$matrix.mtx) <- files_10x$barcodes.tsv$V1"
   ]
  },
  {
   "cell_type": "code",
   "execution_count": null,
   "metadata": {
    "vscode": {
     "languageId": "r"
    }
   },
   "outputs": [],
   "source": [
    "# Load annotation data which used for alignment\n",
    "annotation <- read.csv(\"TH17_Signaturelibrary.csv\", sep=\"\\t\")"
   ]
  },
  {
   "cell_type": "code",
   "execution_count": null,
   "metadata": {
    "vscode": {
     "languageId": "r"
    }
   },
   "outputs": [],
   "source": [
    "# Matrix of gRNA names\n",
    "matrix_gRNA <- as.matrix(files_10x$matrix.mtx[paste0(\"gRNA_\", annotation$oligo_name, \"_gene\"),])\n",
    "\n",
    "# Matrix of gene expression with no gRNA\n",
    "matrix_regular <- as.matrix(files_10x$matrix.mtx[!(rownames(files_10x$matrix.mtx) %in%\n",
    "                                                   paste0(\"gRNA_\", annotation$oligo_name, \"_gene\")),])\n",
    "\n",
    "# Matrix of all gene expression\n",
    "matrix_all <- as.matrix(files_10x$matrix.mtx)\n",
    "matrix_gRNA_singlets <- matrix_gRNA[,colSums(matrix_gRNA >= 1) == 1]\n",
    "\n",
    "# Save data\n",
    "saveRDS(matrix_gRNA, sfile(RData, \"matrix_gRNA.RDS\"))\n",
    "saveRDS(matrix_regular, sfile(RData, \"matrix_regular.RDS\"))\n",
    "saveRDS(matrix_gRNA_singlets, sfile(RData, \"matrix_gRNA_singlets.RDS\"))"
   ]
  },
  {
   "cell_type": "code",
   "execution_count": null,
   "metadata": {
    "vscode": {
     "languageId": "r"
    }
   },
   "outputs": [],
   "source": [
    "matrix_regular <- readRDS(sfile(RData, \"matrix_regular.RDS\"))\n",
    "totalGeneCounts <- data.frame(rowSums(matrix_regular))\n",
    "totalGeneCounts$gene <- rownames(totalGeneCounts)\n",
    "colnames(totalGeneCounts) <- c(\"count\", \"gene\")\n",
    "totalGeneCounts <- totalGeneCounts[totalGeneCounts$count > 0,]\n",
    "write.csv(totalGeneCounts, sfile(csv, \"total_gene_count.csv\"))"
   ]
  },
  {
   "cell_type": "code",
   "execution_count": null,
   "metadata": {
    "vscode": {
     "languageId": "r"
    }
   },
   "outputs": [],
   "source": [
    "cell_gRNA_tab <- convertTo_cellgRNA_table(matrix_gRNA)\n",
    "cell_gRNA_tab$nGene <- colSums(matrix_regular[,cell_gRNA_tab$cell_barcode] >= 1)\n",
    "cell_gRNA_tab$nUMI <- colSums(matrix_regular[,cell_gRNA_tab$cell_barcode])\n",
    "\n",
    "cell_gRNA_singlets_tab <- convertTo_cellgRNA_table(matrix_gRNA_singlets)\n",
    "cell_gRNA_singlets_tab$gRNA_group <- sapply(cell_gRNA_singlets_tab$gRNA, function(x){\n",
    "    annotation[unlist(strsplit(unlist(strsplit(x, '_gene', fixed = TRUE)), \"gRNA_\", fixed=TRUE))[2] == annotation$oligo_name, \"group\"]\n",
    "})\n",
    "\n",
    "write.csv(cell_gRNA_tab, file=sfile(csv, \"cell_gRNA_tab.csv\"))\n",
    "write.csv(cell_gRNA_singlets_tab, file=sfile(csv, \"cell_gRNA_singlets_tab.csv\"))"
   ]
  },
  {
   "cell_type": "code",
   "execution_count": null,
   "metadata": {
    "vscode": {
     "languageId": "r"
    }
   },
   "outputs": [],
   "source": [
    "matrix_regular_gRNASinglets <- matrix_regular[,cell_gRNA_singlets_tab$cell_barcode]\n",
    "saveRDS(matrix_regular_gRNASinglets, file=sfile(RData, \"matrix_regular_gRNASinglets.RDS\"))"
   ]
  },
  {
   "cell_type": "code",
   "execution_count": null,
   "metadata": {
    "vscode": {
     "languageId": "r"
    }
   },
   "outputs": [],
   "source": [
    "percent_unique_gRNA <- vector()\n",
    "percent_multiple_gRNA <- vector()\n",
    "ncells <- vector()\n",
    "\n",
    "thresholds <- c(125, 250, 500, 1000, 2000, 3000, 4000, 5000)\n",
    "\n",
    "for(i in thresholds){\n",
    "    cells <- cell_gRNA_tab$cell_barcode[cell_gRNA_tab$nGene >= i]\n",
    "    ncells <- c(ncells, length(cells))\n",
    "    percent_unique_gRNA <- c(percent_unique_gRNA,\n",
    "        sum(cell_gRNA_tab$cell_barcode[cell_gRNA_tab$ngRNA == 1] %in% cells) / length(cells))\n",
    "    percent_multiple_gRNA <- c(percent_multiple_gRNA,\n",
    "        sum(cell_gRNA_tab$cell_barcode[cell_gRNA_tab$ngRNA > 1] %in% cells) / length(cells))\n",
    "}\n",
    "percent_not_assigned_gRNA <- 1 - (percent_unique_gRNA + percent_multiple_gRNA)\n",
    "\n",
    "library(reshape2)\n",
    "quality_genes_gRNA_melt <- melt(data.frame(threshold = factor(thresholds, levels=thresholds),\n",
    "           singlets = percent_unique_gRNA,\n",
    "           impurities = percent_multiple_gRNA,\n",
    "           not_assigned  = percent_not_assigned_gRNA), vars.id=\"threshold\")\n",
    "quality_genes_gRNA_melt$variable <- factor(quality_genes_gRNA_melt$variable,\n",
    "                                           levels=c(\"not_assigned\", \"singlets\", \"impurities\"))\n",
    "\n",
    "# Plotting\n",
    "pdf(sfile(pdf, \"nGenes_gRNA_Assigned.pdf\"))\n",
    "ggplot(quality_genes_gRNA_melt, aes(x=threshold, y=value*100, fill=variable)) +\n",
    "geom_bar(stat=\"identity\") +\n",
    "scale_fill_manual(values = c(\"darkblue\", \"peru\", \"darkgreen\")) +\n",
    "labs(y=\"Percent of all cells\", x=\"Genes covered per cell\", fill=\"metric\") +\n",
    "scale_y_continuous(limits=c(0, 100)) +\n",
    "theme(legend.position = c(.7,.85))\n",
    "dev.off()"
   ]
  },
  {
   "cell_type": "code",
   "execution_count": null,
   "metadata": {
    "vscode": {
     "languageId": "r"
    }
   },
   "outputs": [],
   "source": [
    "rownames(cell_gRNA_tab) <- cell_gRNA_tab$cell_barcode\n",
    "cell_gRNA_tab$gRNA_group <- NA\n",
    "cell_gRNA_tab[cell_gRNA_singlets_tab$cell_barcode, \"gRNA_group\"] <- as.vector(cell_gRNA_singlets_tab$gRNA_group)\n",
    "cell_gRNA_tab$gRNA_version <- NA\n",
    "cell_gRNA_tab[cell_gRNA_singlets_tab$cell_barcode, \"gRNA_version\"] <-\n",
    "    sapply(cell_gRNA_tab[cell_gRNA_singlets_tab$cell_barcode, \"gRNA\"],\n",
    "            function(x) return(unlist(strsplit(x, \"_\"))[2])\n",
    "    )"
   ]
  },
  {
   "cell_type": "code",
   "execution_count": null,
   "metadata": {
    "vscode": {
     "languageId": "r"
    }
   },
   "outputs": [],
   "source": [
    "plot <- ggplot(cell_gRNA_tab, aes(x=ngRNA)) +\n",
    "    scale_x_continuous(breaks=0:10) +\n",
    "    geom_histogram(alpha=.7, binwidth = 1, fill=\"steelblue\") + \n",
    "    labs(x=\"Number of gRNA in cell\", y=\"Number of Cells\", title=\"gRNA assigned per cell\") + \n",
    "    theme_classic() + \n",
    "    theme(plot.title = element_text(hjust = 0.5,size=14, color = \"black\"))\n",
    "\n",
    "plot\n",
    "\n",
    "pdf(sfile(pdf, \"gRNA_assigned_perCell.pdf\"), useDingbats = FALSE, width=10, height= 10)\n",
    "plot\n",
    "dev.off()"
   ]
  },
  {
   "cell_type": "code",
   "execution_count": null,
   "metadata": {
    "vscode": {
     "languageId": "r"
    }
   },
   "outputs": [],
   "source": [
    "# Export assignmet distribution\n",
    "gRNA_denstity <- data.frame(gRNAs= c(0:20),\n",
    "                            counts = c(sapply(0:20, function(x) nrow(cell_gRNA_tab[cell_gRNA_tab$ngRNA == x,]))))\n",
    "write.csv(gRNA_denstity, file=sfile(csv, \"assiged_gRNAs.csv\"))"
   ]
  },
  {
   "cell_type": "code",
   "execution_count": null,
   "metadata": {
    "vscode": {
     "languageId": "r"
    }
   },
   "outputs": [],
   "source": [
    "assignDistribution <- data.frame(groups = c(\"no gRNA\", \"single gRNA\", \"multiple gRNA\"),\n",
    "                                counts = c(nrow(cell_gRNA_tab[cell_gRNA_tab$ngRNA == 0,]),\n",
    "    nrow(cell_gRNA_tab[cell_gRNA_tab$ngRNA == 1,]),\n",
    "    nrow(cell_gRNA_tab[cell_gRNA_tab$ngRNA > 1,])))"
   ]
  },
  {
   "cell_type": "code",
   "execution_count": null,
   "metadata": {
    "vscode": {
     "languageId": "r"
    }
   },
   "outputs": [],
   "source": [
    "# Plot assignment piechart\n",
    "percent <- function(x) {\n",
    "    return(paste0(round(x * 100, 1), \"%\"))\n",
    "}\n",
    "\n",
    "plot <- ggplot(assignDistribution, aes(x=\"\", y=counts, fill=groups))+\n",
    "    geom_bar(width = 1, stat = \"identity\") + coord_polar(\"y\", start=0) + theme_minimal()+\n",
    "    labs(x = NULL, y = NULL, fill = NULL, title = \"19-9-2\") +\n",
    "    theme(axis.title.x = element_blank(),\n",
    "          axis.title.y = element_blank(),\n",
    "          panel.border = element_blank(),\n",
    "          plot.title = element_text(hjust = 0.5,size=20, color = \"black\"),\n",
    "          panel.grid=element_blank(),\n",
    "          axis.ticks = element_blank()) +\n",
    "    theme(axis.text.x=element_blank()) +\n",
    "    geom_text(aes(label = percent(counts/sum(counts))),\n",
    "              position = position_stack(vjust = 0.5),\n",
    "              size=5) +\n",
    "    scale_fill_manual(values=c(\"#9ecae2\", \"#deebf7\", \"#3281bd\"))\n",
    "\n",
    "plot\n",
    "\n",
    "pdf(sfile(pdf, \"gRNA_assigned_distribution_PieChart.pdf\"), useDingbats = FALSE, width=7, height= 7)\n",
    "plot\n",
    "dev.off()"
   ]
  },
  {
   "cell_type": "code",
   "execution_count": null,
   "metadata": {
    "vscode": {
     "languageId": "r"
    }
   },
   "outputs": [],
   "source": [
    "seu.singlets <- CreateSeuratObject(counts = matrix_regular_gRNASinglets, project = analysis)\n",
    "seu.singlets@meta.data[cell_gRNA_singlets_tab$cell_barcode, \"gRNA_group\"] <- cell_gRNA_singlets_tab$gRNA_group"
   ]
  },
  {
   "cell_type": "code",
   "execution_count": null,
   "metadata": {
    "vscode": {
     "languageId": "r"
    }
   },
   "outputs": [],
   "source": [
    "#Add gRNA_Information to seurat object\n",
    "seu.singlets@meta.data$gRNA <- NA\n",
    "seu.singlets@meta.data[cell_gRNA_singlets_tab$cell_barcode, \"gRNA\"] <-\n",
    "    cell_gRNA_singlets_tab$gRNA\n",
    "seu.singlets@meta.data$gRNA_group <- NA\n",
    "seu.singlets@meta.data[cell_gRNA_singlets_tab$cell_barcode, \"gRNA_group\"] <-\n",
    "    as.vector(cell_gRNA_singlets_tab$gRNA_group)"
   ]
  },
  {
   "cell_type": "code",
   "execution_count": null,
   "metadata": {
    "vscode": {
     "languageId": "r"
    }
   },
   "outputs": [],
   "source": [
    "# Calculating percentage of mitochondrial genes\n",
    "mt.genes.idx <- grep('mt-', rownames(seu.singlets))\n",
    "mt.genes.per <- Matrix::colSums(seu.singlets[mt.genes.idx,])/Matrix::colSums(seu.singlets)\n",
    "seu.singlets <- AddMetaData(seu.singlets, metadata=mt.genes.per, col.name='mito.percent')"
   ]
  },
  {
   "cell_type": "code",
   "execution_count": null,
   "metadata": {
    "vscode": {
     "languageId": "r"
    }
   },
   "outputs": [],
   "source": [
    "# Isolate cells\n",
    "seu.singlets <- subset(seu.singlets, subset = nFeature_RNA > 500 & nFeature_RNA < 4000 & mito.percent < 0.1)\n",
    "\n",
    "# Remove MITO genes\n",
    "seu.singlets <- seu.singlets[-mt.genes.idx, ]"
   ]
  },
  {
   "cell_type": "code",
   "execution_count": null,
   "metadata": {
    "vscode": {
     "languageId": "r"
    }
   },
   "outputs": [],
   "source": [
    "freq_gRNA <- data.frame(table(seu.singlets@meta.data$gRNA))\n",
    "keep_cells <- rownames(seu.singlets@meta.data)[seu.singlets@meta.data$gRNA %in%\n",
    "                                               as.vector(freq_gRNA[freq_gRNA$Freq >= 10, \"Var1\"])]"
   ]
  },
  {
   "cell_type": "code",
   "execution_count": null,
   "metadata": {
    "vscode": {
     "languageId": "r"
    }
   },
   "outputs": [],
   "source": [
    "seu.singlets <- subset(seu.singlets, cells = keep_cells)"
   ]
  },
  {
   "cell_type": "code",
   "execution_count": null,
   "metadata": {
    "vscode": {
     "languageId": "r"
    }
   },
   "outputs": [],
   "source": [
    "# Normize data\n",
    "seu.singlets <- NormalizeData(seu.singlets, normalization.method = \"LogNormalize\", scale.factor = 10000)"
   ]
  },
  {
   "cell_type": "code",
   "execution_count": null,
   "metadata": {
    "vscode": {
     "languageId": "r"
    }
   },
   "outputs": [],
   "source": [
    "# Scale data\n",
    "seu.singlets <- ScaleData(object = seu.singlets)"
   ]
  },
  {
   "cell_type": "code",
   "execution_count": null,
   "metadata": {
    "vscode": {
     "languageId": "r"
    }
   },
   "outputs": [],
   "source": [
    "saveRDS(seu.singlets, sfile(RData, \"raw_seuratObject_scaled.RDS\"))"
   ]
  }
 ],
 "metadata": {
  "kernelspec": {
   "display_name": "R",
   "language": "R",
   "name": "ir"
  },
  "language_info": {
   "codemirror_mode": "r",
   "file_extension": ".r",
   "mimetype": "text/x-r-source",
   "name": "R",
   "pygments_lexer": "r",
   "version": "3.6.3"
  }
 },
 "nbformat": 4,
 "nbformat_minor": 4
}
