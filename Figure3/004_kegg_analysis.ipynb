{
 "cells": [
  {
   "cell_type": "code",
   "execution_count": null,
   "metadata": {},
   "outputs": [],
   "source": [
    "import os\n",
    "\n",
    "from glob import glob\n",
    "\n",
    "import scanpy as sc\n",
    "from keggtools import Pathway, Renderer, Resolver, Storage\n",
    "\n",
    "BASE_DIR = os.getcwd()\n",
    "DATA_DIR = os.path.join(BASE_DIR, \"data\")\n",
    "\n",
    "CHECKPOINT_DIR = os.path.join(DATA_DIR, \"checkpoints\")\n",
    "\n",
    "PROCESSED_DIR = os.path.join(DATA_DIR, \"processed\")\n",
    "PDF_DIR = os.path.join(PROCESSED_DIR, \"pdf\")\n",
    "NOTEBOOK_DIR = os.path.join(BASE_DIR, \"notebooks\")\n",
    "\n",
    "RAW_DATA_DIR = os.path.join(DATA_DIR, \"raw\")\n",
    "\n",
    "PROJECT_NAME = \"CropSeq-19\"\n",
    "\n",
    "def sfile(filename):\n",
    "    _fname = os.path.join(PDF_DIR, f\"{PROJECT_NAME}_merged_{filename}\")\n",
    "    print(f\"File save at '{_fname}'\")\n",
    "    return _fname\n",
    "\n",
    "\n",
    "# Checkpoint handling functions\n",
    "\n",
    "def save_checkpoint(adata_obj, filename, overwrite=False):\n",
    "    filename = os.path.join(CHECKPOINT_DIR, filename)\n",
    "    if os.path.isfile(filename) and not overwrite:\n",
    "        raise FileExistsError(f\"File '{filename}' already exists\")\n",
    "    adata_obj.write_h5ad(filename)\n",
    "\n",
    "def load_checkpoint(filename):\n",
    "    filename = os.path.join(CHECKPOINT_DIR, filename)\n",
    "    if not os.path.isfile(filename):\n",
    "        raise FileNotFoundError(f\"Cant find file '{filename}'\")\n",
    "    return sc.read_h5ad(filename)\n",
    "\n",
    "def list_checkpoints():\n",
    "    found_checkpoints = glob(os.path.join(CHECKPOINT_DIR, \"*\"))\n",
    "    found_checkpoints = [os.path.split(filename)[1] for filename in found_checkpoints]\n",
    "    print(f\"Found {len(found_checkpoints)} checkpoint files in dir '{CHECKPOINT_DIR}'\")\n",
    "    return found_checkpoints"
   ]
  },
  {
   "cell_type": "markdown",
   "metadata": {},
   "source": [
    "### Load data"
   ]
  },
  {
   "cell_type": "code",
   "execution_count": null,
   "metadata": {},
   "outputs": [],
   "source": [
    "adata_concat = load_checkpoint(\"Cropseq_all_integrated_murine__gRNA_integrated_seuratObject.h5ad\")\n",
    "adata_concat.raw = adata_concat"
   ]
  },
  {
   "cell_type": "markdown",
   "metadata": {},
   "source": [
    "### Load annotations"
   ]
  },
  {
   "cell_type": "code",
   "execution_count": null,
   "metadata": {},
   "outputs": [],
   "source": [
    "annotation = sc.queries.biomart_annotations(\n",
    "    \"mmusculus\",\n",
    "    [\"mgi_symbol\", \"entrezgene_id\", \"ensembl_gene_id\"],\n",
    "    use_cache=True\n",
    ").set_index(\"mgi_symbol\")"
   ]
  },
  {
   "cell_type": "markdown",
   "metadata": {},
   "source": [
    "### Differential expression"
   ]
  },
  {
   "cell_type": "code",
   "execution_count": null,
   "metadata": {},
   "outputs": [],
   "source": [
    "guide_groups = list(\n",
    "    adata_concat.obs[(adata_concat.obs[\"gRNA_group\"] != \"control\")][\"gRNA_group\"].unique()\n",
    ")\n",
    "\n",
    "sc.tl.rank_genes_groups(\n",
    "    adata_concat,\n",
    "    groupby=\"gRNA_group\",\n",
    "    reference=\"control\",\n",
    "    groups=guide_groups,\n",
    "    method=\"t-test\",\n",
    ")"
   ]
  },
  {
   "cell_type": "markdown",
   "metadata": {},
   "source": [
    "### Keggtools enrichment analysis"
   ]
  },
  {
   "cell_type": "code",
   "execution_count": null,
   "metadata": {},
   "outputs": [],
   "source": [
    "resolver = Resolver(cache=Storage(\"mmu_pathways\"))"
   ]
  },
  {
   "cell_type": "code",
   "execution_count": null,
   "metadata": {},
   "outputs": [],
   "source": [
    "with open(os.path.join(os.getcwd(), \"mmu-regulatory-network.xml\"), \"r\") as f:\n",
    "    custom_pathway = Pathway.parse(f.read())"
   ]
  },
  {
   "cell_type": "code",
   "execution_count": null,
   "metadata": {},
   "outputs": [],
   "source": [
    "MAX_LOG2FC = 2\n",
    "\n",
    "for target in guide_groups:\n",
    "\n",
    "    df = sc.get.rank_genes_groups_df(adata_concat, group=target)\n",
    "\n",
    "    df = df[df[\"pvals\"] < 0.05]\n",
    "\n",
    "    print(target)\n",
    "    diff_expr_dict = {}\n",
    "    anno_dict = annotation[annotation.index.isin(df[\"names\"]) & (~annotation[\"entrezgene_id\"].isna())][\"entrezgene_id\"].astype(int).to_dict()\n",
    "\n",
    "    for gene_symbol, logfold in dict(zip(df[\"names\"], df[\"logfoldchanges\"])).items():\n",
    "        if gene_symbol in anno_dict.keys():\n",
    "            if str(anno_dict[gene_symbol]) in custom_pathway.get_genes():\n",
    "                diff_expr_dict[str(anno_dict[gene_symbol])] = logfold\n",
    "\n",
    "    for k, v in diff_expr_dict.items():\n",
    "        if v < -MAX_LOG2FC:\n",
    "            diff_expr_dict[k] = -MAX_LOG2FC\n",
    "\n",
    "    renderer = Renderer(kegg_pathway=custom_pathway, gene_dict=diff_expr_dict, cache_or_resolver=resolver)\n",
    "\n",
    "    renderer.render()\n",
    "\n",
    "\n",
    "    binary_data = renderer.to_binary(\"png\")\n",
    "\n",
    "    # save string\n",
    "    open(sfile(f\"{target}-KEGG-custom-pathway-4.dot\"), \"w\").write(renderer.to_string())\n",
    "\n",
    "    # dot to SVG\n",
    "    os.system(\"dot \" + sfile(f\"{target}-KEGG-custom-pathway-4.dot\") + \" -Tsvg > \" + sfile(f\"{target}-KEGG-custom-pathway-4.svg\"))\n",
    "\n",
    "    # Render legends\n",
    "    legend_string = f\"\"\"<?xml version=\"1.0\" standalone=\"no\"?>\n",
    "    <svg height=\"200\" width=\"300\" version=\"1.1\" baseProfile=\"full\" xmlns=\"http://www.w3.org/2000/svg\" xmlns:xlink=\"http://www.w3.org/1999/xlink\" xmlns:ev=\"http://www.w3.org/2001/xml-events\">\n",
    "    <defs>\n",
    "        <linearGradient id=\"cmap\" x1=\"0%\" y1=\"0%\" x2=\"0%\" y2=\"100%\">\n",
    "            <stop offset=\"0%\" style=\"stop-color:rgb(255,0,0);stop-opacity:1\" />\n",
    "            <stop offset=\"50%\" style=\"stop-color:rgb(255,255,255);stop-opacity:1\" />\n",
    "            <stop offset=\"100%\" style=\"stop-color:rgb(0,0,255);stop-opacity:1\" />\n",
    "        </linearGradient>\n",
    "    </defs>\n",
    "    <g>\n",
    "        <rect x=\"20\" y=\"50\" width=\"20\" height=\"100\" fill=\"url(#cmap)\" />\n",
    "        <rect x=\"20\" y=\"50\" width=\"20\" height=\"100\" style=\"stroke:black;stroke-width:2;fill-opacity:0;stroke-opacity:1\" />\n",
    "        <text x=\"55\" y=\"150\" fill=\"black\" alignment-baseline=\"central\">{0 if len(list(diff_expr_dict.values())) <= 0 else min(list(diff_expr_dict.values()))}</text>\n",
    "        <text x=\"55\" y=\"100\" fill=\"black\" alignment-baseline=\"central\">0</text>\n",
    "        <text x=\"55\" y=\"50\" fill=\"black\" alignment-baseline=\"central\">{0 if len(list(diff_expr_dict.values())) <= 0 else max(list(diff_expr_dict.values()))}</text>\n",
    "\n",
    "        <line x1=\"40\" y1=\"50\" x2=\"50\" y2=\"50\" style=\"stroke:rgb(0,0,0);stroke-width:2\" />\n",
    "        <line x1=\"40\" y1=\"100\" x2=\"50\" y2=\"100\" style=\"stroke:rgb(0,0,0);stroke-width:2\" />\n",
    "        <line x1=\"40\" y1=\"150\" x2=\"50\" y2=\"150\" style=\"stroke:rgb(0,0,0);stroke-width:2\" />\n",
    "    </g>\n",
    "    </svg>\"\"\"\n",
    "\n",
    "    open(sfile(f\"{target}-KEGG-custom-pathway-legend-4.svg\"), \"w\").write(legend_string)"
   ]
  }
 ],
 "metadata": {
  "kernelspec": {
   "display_name": "venv",
   "language": "python",
   "name": "python3"
  },
  "language_info": {
   "codemirror_mode": {
    "name": "ipython",
    "version": 3
   },
   "file_extension": ".py",
   "mimetype": "text/x-python",
   "name": "python",
   "nbconvert_exporter": "python",
   "pygments_lexer": "ipython3",
   "version": "3.8.10"
  }
 },
 "nbformat": 4,
 "nbformat_minor": 2
}
