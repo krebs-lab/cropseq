{
 "cells": [
  {
   "cell_type": "code",
   "execution_count": null,
   "metadata": {},
   "outputs": [],
   "source": [
    "import os\n",
    "\n",
    "import pandas as pd\n",
    "import numpy as np\n",
    "from glob import glob\n",
    "\n",
    "import scanpy as sc\n",
    "\n",
    "\n",
    "BASE_DIR = os.getcwd()\n",
    "DATA_DIR = os.path.join(BASE_DIR, \"data\")\n",
    "\n",
    "CHECKPOINT_DIR = os.path.join(DATA_DIR, \"checkpoints\")\n",
    "\n",
    "PROCESSED_DIR = os.path.join(DATA_DIR, \"processed\")\n",
    "PDF_DIR = os.path.join(PROCESSED_DIR, \"pdf\")\n",
    "NOTEBOOK_DIR = os.path.join(BASE_DIR, \"notebooks\")\n",
    "\n",
    "RAW_DATA_DIR = os.path.join(DATA_DIR, \"raw\")\n",
    "\n",
    "PROJECT_NAME = \"CropSeq-19\"\n",
    "\n",
    "# Checkpoint handling functions\n",
    "\n",
    "def save_checkpoint(adata_obj, filename, overwrite=False):\n",
    "    filename = os.path.join(CHECKPOINT_DIR, filename)\n",
    "    if os.path.isfile(filename) and not overwrite:\n",
    "        raise FileExistsError(f\"File '{filename}' already exists\")\n",
    "    adata_obj.write_h5ad(filename)\n",
    "\n",
    "def load_checkpoint(filename):\n",
    "    filename = os.path.join(CHECKPOINT_DIR, filename)\n",
    "    if not os.path.isfile(filename):\n",
    "        raise FileNotFoundError(f\"Cant find file '{filename}'\")\n",
    "    return sc.read_h5ad(filename)\n",
    "\n",
    "def list_checkpoints():\n",
    "    found_checkpoints = glob(os.path.join(CHECKPOINT_DIR, \"*\"))\n",
    "    found_checkpoints = [os.path.split(filename)[1] for filename in found_checkpoints]\n",
    "    print(f\"Found {len(found_checkpoints)} checkpoint files in dir '{CHECKPOINT_DIR}'\")\n",
    "    return found_checkpoints\n",
    "\n",
    "def sfile(filename):\n",
    "    _fname = os.path.join(PDF_DIR, f\"{PROJECT_NAME}_merged_{filename}\")\n",
    "    print(f\"File save at '{_fname}'\")\n",
    "    return _fname"
   ]
  },
  {
   "cell_type": "markdown",
   "metadata": {},
   "source": [
    "### Load checkpoint"
   ]
  },
  {
   "cell_type": "code",
   "execution_count": null,
   "metadata": {},
   "outputs": [],
   "source": [
    "adata_concat = load_checkpoint(\"Cropseq_all_integrated_murine__gRNA_integrated_seuratObject.h5ad\")"
   ]
  },
  {
   "cell_type": "markdown",
   "metadata": {},
   "source": [
    "### Count control subset cells"
   ]
  },
  {
   "cell_type": "code",
   "execution_count": null,
   "metadata": {},
   "outputs": [],
   "source": [
    "\"Th17 cells\", len(adata_concat.obs[adata_concat.obs[\"seurat_clusters\"].isin([1, 5]) & (adata_concat.obs[\"gRNA_group\"] == \"control\")])"
   ]
  },
  {
   "cell_type": "code",
   "execution_count": null,
   "metadata": {},
   "outputs": [],
   "source": [
    "\"Th1 cells\", len(adata_concat.obs[adata_concat.obs[\"seurat_clusters\"].isin([3]) & (adata_concat.obs[\"gRNA_group\"] == \"control\")])"
   ]
  },
  {
   "cell_type": "code",
   "execution_count": null,
   "metadata": {},
   "outputs": [],
   "source": [
    "\"Treg cells\", len(adata_concat.obs[adata_concat.obs[\"seurat_clusters\"].isin([0, 6]) & (adata_concat.obs[\"gRNA_group\"] == \"control\")])"
   ]
  },
  {
   "cell_type": "code",
   "execution_count": null,
   "metadata": {},
   "outputs": [],
   "source": [
    "\"All control\", len(adata_concat.obs[(adata_concat.obs[\"gRNA_group\"] == \"control\")])"
   ]
  },
  {
   "cell_type": "markdown",
   "metadata": {},
   "source": [
    "### Caclulate distances to scambled control subclusters"
   ]
  },
  {
   "cell_type": "code",
   "execution_count": null,
   "metadata": {},
   "outputs": [],
   "source": [
    "def get_distance(barcode_list_1, barcode_list_2):\n",
    "    return np.sqrt(\n",
    "        np.sum(\n",
    "            np.power(\n",
    "                (\n",
    "                    np.mean(adata_concat[barcode_list_1,:].raw.X, axis=0) - \\\n",
    "                    np.mean(adata_concat[barcode_list_2,:].raw.X, axis=0)\n",
    "                ),\n",
    "                2\n",
    "            )\n",
    "        )\n",
    "    )"
   ]
  },
  {
   "cell_type": "code",
   "execution_count": null,
   "metadata": {},
   "outputs": [],
   "source": [
    "control_barcodes = adata_concat.obs[(adata_concat.obs[\"gRNA_group\"] == \"control\")].index\n",
    "th17_barcodes = adata_concat.obs[adata_concat.obs[\"seurat_clusters\"].isin([1,5]) & (adata_concat.obs[\"gRNA_group\"] == \"control\")].index\n",
    "th1_barcodes = adata_concat.obs[adata_concat.obs[\"seurat_clusters\"].isin([3]) & (adata_concat.obs[\"gRNA_group\"] == \"control\")].index\n",
    "treg_barcodes = adata_concat.obs[adata_concat.obs[\"seurat_clusters\"].isin([0,6]) & (adata_concat.obs[\"gRNA_group\"] == \"control\")].index"
   ]
  },
  {
   "cell_type": "code",
   "execution_count": null,
   "metadata": {},
   "outputs": [],
   "source": [
    "row_list = []\n",
    "\n",
    "for target in adata_concat.obs[\"gRNA_group\"].unique():\n",
    "\n",
    "    all_grna_barcodes = adata_concat.obs[(adata_concat.obs[\"gRNA_group\"] == target)].index\n",
    "\n",
    "\n",
    "    row_list.append({\n",
    "        'group': target,\n",
    "        'Th17': get_distance(th17_barcodes, all_grna_barcodes[~all_grna_barcodes.isin(th17_barcodes)]),\n",
    "        'Th1': get_distance(th1_barcodes, all_grna_barcodes[~all_grna_barcodes.isin(th1_barcodes)]),\n",
    "        'Treg': get_distance(treg_barcodes, all_grna_barcodes[~all_grna_barcodes.isin(treg_barcodes)]),\n",
    "        \"Control\": get_distance(control_barcodes, all_grna_barcodes),\n",
    "    })"
   ]
  },
  {
   "cell_type": "code",
   "execution_count": null,
   "metadata": {},
   "outputs": [],
   "source": [
    "df = pd.DataFrame(row_list)"
   ]
  },
  {
   "cell_type": "code",
   "execution_count": null,
   "metadata": {},
   "outputs": [],
   "source": [
    "grna_convertion_dict = dict(zip([\n",
    "    'SOCS1',\n",
    "    'Ahr',\n",
    "    'IL-23R',\n",
    "    'tgfrb2',\n",
    "    'IRF4',\n",
    "    'JAK2',\n",
    "    'TLR4',\n",
    "    'IL-6RA',\n",
    "    'CCR6',\n",
    "    'Sykb',\n",
    "    'tgfbr1',\n",
    "    'TRAF6',\n",
    "    'IL-17A',\n",
    "    'CD40L',\n",
    "    'SOCS3',\n",
    "    'Rorc',\n",
    "    'IL1r1',\n",
    "    'STAT6',\n",
    "    'NFkb1',\n",
    "    'IL-7R',\n",
    "    'CEBPB',\n",
    "    'JAK1',\n",
    "    'Runx1',\n",
    "    'NFATC2',\n",
    "    'Tbx21',\n",
    "    'STAT3',\n",
    "    'MyD88',\n",
    "    'IL-12RB',\n",
    "    \"control\",\n",
    "], [\n",
    "    'Socs1',\n",
    "    'Ahr',\n",
    "    'Il23r',\n",
    "    'Tgfbr2',\n",
    "    'Irf4',\n",
    "    'Jak2',\n",
    "    'Tlr4',\n",
    "    'Il6ra',\n",
    "    'Ccr6',\n",
    "    'Syk',\n",
    "    'Tgfbr1',\n",
    "    'Traf6',\n",
    "    'Il17a',\n",
    "    'Cd40lg',\n",
    "    'Socs3',\n",
    "    'Rorc',\n",
    "    'Il1r1',\n",
    "    'Stat6',\n",
    "    'Nfkb1',\n",
    "    'Il7r',\n",
    "    'Cebpb',\n",
    "    'Jak1',\n",
    "    'Runx1',\n",
    "    'Nfatc2',\n",
    "    'Tbx21',\n",
    "    'Stat3',\n",
    "    'Myd88',\n",
    "    'Il12rb1',\n",
    "    \"control\",\n",
    "]))"
   ]
  },
  {
   "cell_type": "code",
   "execution_count": null,
   "metadata": {},
   "outputs": [],
   "source": [
    "df[\"group\"] = df[\"group\"].apply(lambda x: grna_convertion_dict[x])"
   ]
  },
  {
   "cell_type": "code",
   "execution_count": null,
   "metadata": {},
   "outputs": [],
   "source": [
    "pd.DataFrame(row_list).to_csv(sfile(\"euclidian-distances-to-scrambled-subclusters.csv\"))"
   ]
  }
 ],
 "metadata": {
  "kernelspec": {
   "display_name": "venv",
   "language": "python",
   "name": "python3"
  },
  "language_info": {
   "codemirror_mode": {
    "name": "ipython",
    "version": 3
   },
   "file_extension": ".py",
   "mimetype": "text/x-python",
   "name": "python",
   "nbconvert_exporter": "python",
   "pygments_lexer": "ipython3",
   "version": "3.8.10"
  }
 },
 "nbformat": 4,
 "nbformat_minor": 2
}
