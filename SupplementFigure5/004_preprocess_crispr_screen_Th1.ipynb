{
 "cells": [
  {
   "cell_type": "code",
   "execution_count": null,
   "metadata": {},
   "outputs": [],
   "source": [
    "PROJECT_NAME = \"CropSeq-23-1\"\n",
    "SAMPLE = \"Th1\"\n",
    "\n",
    "\n",
    "import json\n",
    "import os\n",
    "import re\n",
    "\n",
    "import pandas as pd\n",
    "import numpy as np\n",
    "from glob import glob\n",
    "\n",
    "import seaborn as sns\n",
    "import matplotlib.pyplot as plt\n",
    "\n",
    "import scanpy as sc\n",
    "from scipy import stats\n",
    "import scvelo as scv\n",
    "import scirpy as ir\n",
    "\n",
    "BASE_DIR = os.getcwd()\n",
    "DATA_DIR = os.path.join(BASE_DIR, \"data\")\n",
    "\n",
    "CHECKPOINT_DIR = os.path.join(DATA_DIR, \"checkpoints\")\n",
    "\n",
    "PROCESSED_DIR = os.path.join(DATA_DIR, \"processed\")\n",
    "PDF_DIR = os.path.join(PROCESSED_DIR, \"pdf\")\n",
    "NOTEBOOK_DIR = os.path.join(BASE_DIR, \"notebooks\")\n",
    "\n",
    "RAW_DATA_DIR = os.path.join(DATA_DIR, \"raw\")\n",
    "\n",
    "\n",
    "def sfile(filename):\n",
    "    _fname = os.path.join(PDF_DIR, f\"{PROJECT_NAME}_{SAMPLE}_{filename}\")\n",
    "    print(f\"File save at '{_fname}'\")\n",
    "    return _fname\n",
    "\n",
    "# Checkpoint handling functions\n",
    "\n",
    "def save_checkpoint(adata_obj, filename, overwrite=False):\n",
    "    filename = os.path.join(CHECKPOINT_DIR, filename)\n",
    "    if os.path.isfile(filename) and not overwrite:\n",
    "        raise FileExistsError(f\"File '{filename}' already exists\")\n",
    "    adata_obj.write_h5ad(filename)\n",
    "\n",
    "def load_checkpoint(filename):\n",
    "    filename = os.path.join(CHECKPOINT_DIR, filename)\n",
    "    if not os.path.isfile(filename):\n",
    "        raise FileNotFoundError(f\"Cant find file '{filename}'\")\n",
    "    return sc.read_h5ad(filename)\n",
    "\n",
    "def list_checkpoints():\n",
    "    found_checkpoints = glob(os.path.join(CHECKPOINT_DIR, \"*\"))\n",
    "    found_checkpoints = [os.path.split(filename)[1] for filename in found_checkpoints]\n",
    "    print(f\"Found {len(found_checkpoints)} checkpoint files in dir '{CHECKPOINT_DIR}'\")\n",
    "    return found_checkpoints\n"
   ]
  },
  {
   "cell_type": "markdown",
   "metadata": {},
   "source": [
    "### Load raw data"
   ]
  },
  {
   "cell_type": "code",
   "execution_count": null,
   "metadata": {},
   "outputs": [],
   "source": [
    "guide_adata = sc.read_10x_mtx(os.path.join(RAW_DATA_DIR, SAMPLE))"
   ]
  },
  {
   "attachments": {},
   "cell_type": "markdown",
   "metadata": {},
   "source": [
    "### Preprocess single cell data"
   ]
  },
  {
   "cell_type": "code",
   "execution_count": null,
   "metadata": {},
   "outputs": [],
   "source": [
    "guide_adata.var['mt'] = guide_adata.var_names.str.startswith('mt-')\n",
    "guide_adata.var['ribo'] = guide_adata.var_names.str.startswith('Rpl') | guide_adata.var_names.str.startswith('Rps')\n",
    "sc.pp.calculate_qc_metrics(guide_adata, qc_vars=['mt', \"ribo\"], percent_top=None, log1p=False, inplace=True)"
   ]
  },
  {
   "cell_type": "code",
   "execution_count": null,
   "metadata": {},
   "outputs": [],
   "source": [
    "fig, (ax1, ax2) = plt.subplots(2, 1, figsize = (4, 8))\n",
    "p1 = sc.pl.scatter(guide_adata, x='total_counts', y='n_genes_by_counts', show=False, ax=ax1)\n",
    "p2 = sc.pl.scatter(guide_adata, x='total_counts', y='pct_counts_mt', show=False, ax=ax2)"
   ]
  },
  {
   "cell_type": "code",
   "execution_count": null,
   "metadata": {},
   "outputs": [],
   "source": [
    "# Filter mito genes by cutoff (%)\n",
    "MITO_CUTOFF = 5\n",
    "\n",
    "total_cell_count = len(guide_adata)\n",
    "guide_adata = guide_adata[guide_adata.obs.pct_counts_mt < MITO_CUTOFF, :]\n",
    "\n",
    "print(f\"Filter by cutoff {MITO_CUTOFF}% out \" \\\n",
    "      f\"{total_cell_count - len(guide_adata)}/{total_cell_count} cells by parameter\" \\\n",
    "      f\"'pct_counts_mt' ({round(len(guide_adata) / total_cell_count * 100, 2)}%)\")\n",
    "\n",
    "\n",
    "print(f\"Got a final count of {len(guide_adata)} cells in \" \\\n",
    "      f\"dataset ({round(len(guide_adata) / total_cell_count * 100, 2)}%)\")"
   ]
  },
  {
   "cell_type": "code",
   "execution_count": null,
   "metadata": {},
   "outputs": [],
   "source": [
    "scv.pp.normalize_per_cell(guide_adata)\n",
    "scv.pp.filter_genes_dispersion(\n",
    "    guide_adata,\n",
    "    min_mean=0.0125,\n",
    "    max_mean=3,\n",
    "    min_disp=0.5,\n",
    "    subset=False\n",
    ")"
   ]
  },
  {
   "cell_type": "code",
   "execution_count": null,
   "metadata": {},
   "outputs": [],
   "source": [
    "# Subsample dataset\n",
    "sc.pp.subsample(guide_adata, n_obs=7000)"
   ]
  },
  {
   "cell_type": "code",
   "execution_count": null,
   "metadata": {},
   "outputs": [],
   "source": [
    "guide_adata.raw = guide_adata"
   ]
  },
  {
   "cell_type": "code",
   "execution_count": null,
   "metadata": {},
   "outputs": [],
   "source": [
    "sc.pp.regress_out(guide_adata, ['total_counts'], n_jobs=6)"
   ]
  },
  {
   "cell_type": "code",
   "execution_count": null,
   "metadata": {},
   "outputs": [],
   "source": [
    "sc.pp.scale(guide_adata, max_value=10)"
   ]
  },
  {
   "cell_type": "code",
   "execution_count": null,
   "metadata": {},
   "outputs": [],
   "source": [
    "sc.pp.pca(guide_adata)\n",
    "sc.pp.neighbors(guide_adata)\n",
    "sc.tl.leiden(guide_adata, resolution=0.5)\n",
    "sc.tl.umap(guide_adata)"
   ]
  },
  {
   "cell_type": "code",
   "execution_count": null,
   "metadata": {},
   "outputs": [],
   "source": [
    "# Show batch Effekt\n",
    "plot = sc.pl.umap(\n",
    "    guide_adata,\n",
    "    color=[\"leiden\"],\n",
    "    show = False,\n",
    "    frameon = False,\n",
    "    title=[\"UMAP with leiden clustering\"]\n",
    ")"
   ]
  },
  {
   "cell_type": "markdown",
   "metadata": {},
   "source": [
    "### Load TCR data"
   ]
  },
  {
   "cell_type": "code",
   "execution_count": null,
   "metadata": {},
   "outputs": [],
   "source": [
    "filename = os.path.join(RAW_DATA_DIR, SAMPLE, \"filtered_contig_annotations.csv\")"
   ]
  },
  {
   "cell_type": "code",
   "execution_count": null,
   "metadata": {},
   "outputs": [],
   "source": [
    "# Load TCR\n",
    "tcr = ir.io.read_10x_vdj(path=filename)\n",
    "\n",
    "# Insert TCR data into full adata\n",
    "guide_adata.obs = pd.DataFrame.merge(guide_adata.obs, tcr.obs, left_index=True, right_index=True, how=\"left\")\n",
    "\n",
    "# QC\n",
    "ir.tl.chain_qc(guide_adata)\n",
    "ax = ir.pl.group_abundance(guide_adata, groupby=\"receptor_subtype\", target_col=\"leiden\")"
   ]
  },
  {
   "cell_type": "code",
   "execution_count": null,
   "metadata": {},
   "outputs": [],
   "source": [
    "ax = ir.pl.group_abundance(guide_adata, groupby=\"chain_pairing\", target_col=\"leiden\")"
   ]
  },
  {
   "cell_type": "code",
   "execution_count": null,
   "metadata": {},
   "outputs": [],
   "source": [
    "ax = sc.pl.umap(guide_adata, color=\"chain_pairing\", groups=\"single pair\")"
   ]
  },
  {
   "cell_type": "code",
   "execution_count": null,
   "metadata": {},
   "outputs": [],
   "source": [
    "ir.pp.ir_dist(guide_adata)\n",
    "ir.tl.define_clonotypes(guide_adata, receptor_arms=\"all\", dual_ir=\"primary_only\")\n",
    "\n",
    "ir.tl.clonal_expansion(guide_adata)\n",
    "sc.pl.umap(guide_adata, color=\"clonal_expansion\")"
   ]
  },
  {
   "cell_type": "code",
   "execution_count": null,
   "metadata": {},
   "outputs": [],
   "source": [
    "def make_unique_clone_id(adata_obj, prefix):\n",
    "    adata_obj.obs.loc[adata_obj.obs[\"clone_id\"].isna(), \"clone_id\"] = None\n",
    "    adata_obj.obs[\"clone_id\"] = adata_obj.obs[\"clone_id\"].astype(str)\n",
    "    adata_obj.obs.loc[\n",
    "        ~adata_obj.obs[\"clone_id\"].isna(),\n",
    "        \"clone_id\"\n",
    "    ] = prefix + \"-\" + adata_obj.obs.loc[\n",
    "        adata_obj.obs[\"clone_id\"] != \"nan\",\n",
    "        \"clone_id\"\n",
    "    ]\n",
    "    return adata_obj"
   ]
  },
  {
   "cell_type": "code",
   "execution_count": null,
   "metadata": {},
   "outputs": [],
   "source": [
    "filtered_rna = make_unique_clone_id(guide_adata, SAMPLE)"
   ]
  },
  {
   "cell_type": "code",
   "execution_count": null,
   "metadata": {},
   "outputs": [],
   "source": [
    "# Set default OBS values\n",
    "guide_adata.obs[\"guide_target\"] = \"no_guide\"\n",
    "guide_adata.obs[\"guide_name\"] = \"no_guide\"\n",
    "guide_adata.obs[\"feature_call\"] = \"no_guide\"\n",
    "guide_adata.obs[\"num_features\"] = 0.0\n",
    "guide_adata.obs[\"num_umis\"] = \"0\"\n",
    "guide_adata.obs[\"guide_num_umis\"] = 0.0"
   ]
  },
  {
   "cell_type": "markdown",
   "metadata": {},
   "source": [
    "### Cluster analysis"
   ]
  },
  {
   "cell_type": "code",
   "execution_count": null,
   "metadata": {},
   "outputs": [],
   "source": [
    "sc.pp.neighbors(guide_adata, n_neighbors=40, n_pcs=40)\n",
    "sc.tl.leiden(guide_adata, resolution = 0.5)\n",
    "sc.tl.umap(guide_adata)"
   ]
  },
  {
   "cell_type": "code",
   "execution_count": null,
   "metadata": {},
   "outputs": [],
   "source": [
    "sc.pl.umap(guide_adata, color=\"leiden\")"
   ]
  },
  {
   "cell_type": "code",
   "execution_count": null,
   "metadata": {},
   "outputs": [],
   "source": [
    "# Rename clusters\n",
    "cluster_names = [\n",
    "    \"CD4+ Bcl6-high\",\n",
    "    \"CD4+ Prf1-high\",\n",
    "    \"Th17\",\n",
    "    \"CD4+ undefined\",\n",
    "    \"Th1\",\n",
    "    \"Treg\",\n",
    "    \"CD4+ Ifit1-high\",\n",
    "]\n",
    "\n",
    "guide_adata.rename_categories(\"leiden\", cluster_names)"
   ]
  },
  {
   "cell_type": "code",
   "execution_count": null,
   "metadata": {},
   "outputs": [],
   "source": [
    "# Copy to other column\n",
    "guide_adata.obs[\"no_guide_cluster\"] = guide_adata.obs[\"leiden\"]"
   ]
  },
  {
   "cell_type": "code",
   "execution_count": null,
   "metadata": {},
   "outputs": [],
   "source": [
    "\n",
    "marker_gene_list = [\n",
    "    \"Bcl6\",\n",
    "    \"Prf1\",\n",
    "    \"Il17a\",\n",
    "    \"Rorc\",\n",
    "    \"Ccr6\",\n",
    "    \"Il23r\",\n",
    "    \"Il22\",\n",
    "    \"Gzma\",\n",
    "    \"Cxcr3\",\n",
    "    \"Ifng\",\n",
    "    \"Gzmb\",\n",
    "    \"Foxp3\",\n",
    "    \"Il10\",\n",
    "    \"Irf7\",\n",
    "    \"Ifit1\",\n",
    "]\n",
    "\n",
    "fig = sc.pl.matrixplot(\n",
    "    guide_adata,\n",
    "    marker_gene_list,\n",
    "    groupby='no_guide_cluster',\n",
    "    cmap='viridis',\n",
    "    swap_axes = False,\n",
    "    standard_scale = \"var\",\n",
    "    vmax=1,\n",
    "    vmin=0,\n",
    "    show = False,\n",
    "    title = \"Differential Expression\",\n",
    "    return_fig=True,\n",
    "    figsize=(7, 7),\n",
    ")\n",
    "\n",
    "fig.savefig(sfile(\"th1-diff-expression-matrix-plot.pdf\"), transparent=True)"
   ]
  },
  {
   "cell_type": "markdown",
   "metadata": {},
   "source": [
    "### Save checkpoint"
   ]
  },
  {
   "cell_type": "code",
   "execution_count": null,
   "metadata": {},
   "outputs": [],
   "source": [
    "save_checkpoint(\n",
    "    adata_obj=guide_adata,\n",
    "    filename=os.path.join(CHECKPOINT_DIR, f\"{PROJECT_NAME}-{SAMPLE}-preprocessed.h5ad\"),\n",
    "    overwrite=True\n",
    ")"
   ]
  }
 ],
 "metadata": {
  "kernelspec": {
   "display_name": "venv",
   "language": "python",
   "name": "python3"
  },
  "language_info": {
   "codemirror_mode": {
    "name": "ipython",
    "version": 3
   },
   "file_extension": ".py",
   "mimetype": "text/x-python",
   "name": "python",
   "nbconvert_exporter": "python",
   "pygments_lexer": "ipython3",
   "version": "3.8.10"
  },
  "orig_nbformat": 4
 },
 "nbformat": 4,
 "nbformat_minor": 2
}
