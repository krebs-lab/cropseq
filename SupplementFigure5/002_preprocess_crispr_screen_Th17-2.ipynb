{
 "cells": [
  {
   "cell_type": "code",
   "execution_count": null,
   "metadata": {},
   "outputs": [],
   "source": [
    "PROJECT_NAME = \"CropSeq-23-1\"\n",
    "SAMPLE = \"Th17-2\"\n",
    "\n",
    "\n",
    "import json\n",
    "import os\n",
    "import re\n",
    "\n",
    "import pandas as pd\n",
    "import numpy as np\n",
    "from glob import glob\n",
    "\n",
    "import seaborn as sns\n",
    "import matplotlib.pyplot as plt\n",
    "\n",
    "import scanpy as sc\n",
    "from scipy import stats\n",
    "import scvelo as scv\n",
    "import scirpy as ir\n",
    "\n",
    "BASE_DIR = os.getcwd()\n",
    "DATA_DIR = os.path.join(BASE_DIR, \"data\")\n",
    "\n",
    "CHECKPOINT_DIR = os.path.join(DATA_DIR, \"checkpoints\")\n",
    "\n",
    "PROCESSED_DIR = os.path.join(DATA_DIR, \"processed\")\n",
    "PDF_DIR = os.path.join(PROCESSED_DIR, \"pdf\")\n",
    "NOTEBOOK_DIR = os.path.join(BASE_DIR, \"notebooks\")\n",
    "\n",
    "RAW_DATA_DIR = os.path.join(DATA_DIR, \"raw\")\n",
    "\n",
    "\n",
    "def sfile(filename):\n",
    "    _fname = os.path.join(PDF_DIR, f\"{PROJECT_NAME}_{SAMPLE}_{filename}\")\n",
    "    print(f\"File save at '{_fname}'\")\n",
    "    return _fname\n",
    "\n",
    "# Checkpoint handling functions\n",
    "\n",
    "def save_checkpoint(adata_obj, filename, overwrite=False):\n",
    "    filename = os.path.join(CHECKPOINT_DIR, filename)\n",
    "    if os.path.isfile(filename) and not overwrite:\n",
    "        raise FileExistsError(f\"File '{filename}' already exists\")\n",
    "    adata_obj.write_h5ad(filename)\n",
    "\n",
    "def load_checkpoint(filename):\n",
    "    filename = os.path.join(CHECKPOINT_DIR, filename)\n",
    "    if not os.path.isfile(filename):\n",
    "        raise FileNotFoundError(f\"Cant find file '{filename}'\")\n",
    "    return sc.read_h5ad(filename)\n",
    "\n",
    "def list_checkpoints():\n",
    "    found_checkpoints = glob(os.path.join(CHECKPOINT_DIR, \"*\"))\n",
    "    found_checkpoints = [os.path.split(filename)[1] for filename in found_checkpoints]\n",
    "    print(f\"Found {len(found_checkpoints)} checkpoint files in dir '{CHECKPOINT_DIR}'\")\n",
    "    return found_checkpoints\n",
    "\n",
    "\n",
    "# CRISPR library loader\n",
    "\n",
    "def load_cells_per_protospacer(dirname: str) -> dict:\n",
    "\n",
    "    # Load crispr screen data\n",
    "    crispr_data = json.load(open(os.path.join(dirname, \"cells_per_protospacer.json\"), \"r\"))\n",
    "    cell_dict = {}\n",
    "\n",
    "    for guide, barcodes in crispr_data.items():\n",
    "        for barcode in barcodes:\n",
    "            if barcode not in cell_dict:\n",
    "                cell_dict[barcode] = [guide]\n",
    "            else:\n",
    "                if guide not in cell_dict[barcode]:\n",
    "                    cell_dict[barcode].append(guide)\n",
    "\n",
    "    return cell_dict\n",
    "\n",
    "\n",
    "def load_protospacer_per_cell(dirname: str) -> dict:\n",
    "    return pd.read_csv(os.path.join(dirname, \"protospacer_calls_per_cell.csv\"))"
   ]
  },
  {
   "cell_type": "markdown",
   "metadata": {},
   "source": [
    "### Load raw data"
   ]
  },
  {
   "cell_type": "code",
   "execution_count": null,
   "metadata": {},
   "outputs": [],
   "source": [
    "adata = sc.read_10x_mtx(os.path.join(RAW_DATA_DIR, SAMPLE))"
   ]
  },
  {
   "cell_type": "code",
   "execution_count": null,
   "metadata": {},
   "outputs": [],
   "source": [
    "crispr_data = load_protospacer_per_cell(os.path.join(RAW_DATA_DIR, SAMPLE))"
   ]
  },
  {
   "cell_type": "code",
   "execution_count": null,
   "metadata": {},
   "outputs": [],
   "source": [
    "THRESHOLD_PREC = 0.05\n",
    "\n",
    "# Corrected UMI counts\n",
    "crispr_data_dict = crispr_data.to_dict()\n",
    "crispr_data_dict[\"corr_num_umis\"] = {}\n",
    "crispr_data_dict[\"corr_num_features\"] = {}\n",
    "crispr_data_dict[\"corr_feature_call\"] = {}\n",
    "\n",
    "for key, value in crispr_data_dict[\"num_umis\"].items():\n",
    "    if crispr_data_dict[\"num_features\"][key] == 1:\n",
    "        crispr_data_dict[\"corr_num_umis\"][key] = value\n",
    "        crispr_data_dict[\"corr_num_features\"][key] = 1\n",
    "        crispr_data_dict[\"corr_feature_call\"][key] = crispr_data_dict[\"feature_call\"][key]\n",
    "    else:\n",
    "        umi_counts = [int(i) for i in value.split(\"|\")]\n",
    "        features = crispr_data_dict[\"feature_call\"][key].split(\"|\")\n",
    "\n",
    "        new_umi_counts = []\n",
    "        new_feature_calls = []\n",
    "\n",
    "        adapt_th = np.sum(umi_counts) * THRESHOLD_PREC\n",
    "\n",
    "        for index, item in enumerate(umi_counts):\n",
    "            if item > adapt_th:\n",
    "                new_umi_counts.append(umi_counts[index])\n",
    "                new_feature_calls.append(features[index])\n",
    "\n",
    "        crispr_data_dict[\"corr_num_umis\"][key] = \"|\".join([str(i) for i in new_umi_counts])\n",
    "        crispr_data_dict[\"corr_num_features\"][key] = len(new_umi_counts)\n",
    "        crispr_data_dict[\"corr_feature_call\"][key] = \"|\".join(new_feature_calls)\n",
    "\n",
    "crispr_data = pd.DataFrame(crispr_data_dict)"
   ]
  },
  {
   "cell_type": "code",
   "execution_count": null,
   "metadata": {},
   "outputs": [],
   "source": [
    "list(crispr_data[\"corr_num_features\"].value_counts())"
   ]
  },
  {
   "cell_type": "code",
   "execution_count": null,
   "metadata": {},
   "outputs": [],
   "source": [
    "total_cells = len(adata)\n",
    "\n",
    "multi_guide = [total_cells - sum(list(crispr_data[\"corr_num_features\"].value_counts())), *list(crispr_data[\"corr_num_features\"].value_counts())]\n",
    "\n",
    "assert sum(multi_guide) == total_cells"
   ]
  },
  {
   "cell_type": "code",
   "execution_count": null,
   "metadata": {},
   "outputs": [],
   "source": [
    "fig, ax = plt.subplots(figsize = (7, 7))\n",
    "\n",
    "ax = sns.barplot(y=multi_guide, x=list(range(len(multi_guide))), color=\"skyblue\", ax=ax)\n",
    "ax = ax.set(xlabel=\"Number of unique guide gRNA per cell\", ylabel=\"Cell count\", title=\"gRNA distribution\")\n",
    "\n",
    "fig.savefig(sfile(\"guide-frequency-barchart.pdf\"), transparent=True)"
   ]
  },
  {
   "cell_type": "code",
   "execution_count": null,
   "metadata": {},
   "outputs": [],
   "source": [
    "colors = plt.get_cmap('Blues')(np.linspace(0.8, 0.3, 3))\n",
    "\n",
    "fig, ax = plt.subplots()\n",
    "_ = ax.pie(\n",
    "    [multi_guide[0], multi_guide[1], sum(multi_guide[2:])],\n",
    "    labels=[\"none\", \"single\", \"multi\"],\n",
    "    colors=colors,\n",
    "    autopct=\"%1.1f%%\",\n",
    "    startangle=90,\n",
    ")\n",
    "\n",
    "ax = ax.set(title=\"gRNA distribution\")\n",
    "\n",
    "fig.savefig(sfile(\"guide-frequency-piechart.pdf\"), transparent=True)"
   ]
  },
  {
   "cell_type": "code",
   "execution_count": null,
   "metadata": {},
   "outputs": [],
   "source": [
    "# Isolate guide singlets\n",
    "crispr_data = crispr_data[crispr_data[\"corr_num_features\"] == 1]"
   ]
  },
  {
   "cell_type": "code",
   "execution_count": null,
   "metadata": {},
   "outputs": [],
   "source": [
    "# Remove guide reads from count data\n",
    "adata = adata[:,~adata.var[\"gene_ids\"].str.match(\"gRNA_(.*)_gene\")]"
   ]
  },
  {
   "cell_type": "code",
   "execution_count": null,
   "metadata": {},
   "outputs": [],
   "source": [
    "# Remove none-singlet cells from datasets\n",
    "adata = adata[crispr_data[\"cell_barcode\"].values,:]"
   ]
  },
  {
   "cell_type": "code",
   "execution_count": null,
   "metadata": {},
   "outputs": [],
   "source": [
    "def split_guide_name(name: str) -> tuple:\n",
    "\n",
    "    match = re.match(r\"^gRNA_(?P<target>[a-zA-Z0-9\\-]*)_(?P<version>[0-9]{1,2})_capture$\", name)\n",
    "\n",
    "    if match is None:\n",
    "        raise ValueError(f\"Failed to get guide from {name}.\")\n",
    "\n",
    "    return match.groups()"
   ]
  },
  {
   "cell_type": "code",
   "execution_count": null,
   "metadata": {},
   "outputs": [],
   "source": [
    "crispr_data.index = crispr_data[\"cell_barcode\"]\n",
    "\n",
    "guide_adata = adata.copy()\n",
    "\n",
    "guide_adata.obs = adata.obs.merge(crispr_data, left_index=True, right_index=True)\n",
    "\n",
    "guide_adata.obs = guide_adata.obs.drop(\"cell_barcode\", axis=1)\n",
    "guide_adata.obs = guide_adata.obs.drop(\"corr_num_features\", axis=1)\n",
    "\n",
    "guide_adata.obs[\"guide_name\"] = guide_adata.obs[\"corr_feature_call\"]\n",
    "guide_adata.obs[\"guide_num_umis\"] = guide_adata.obs[\"corr_num_umis\"]\n",
    "guide_adata.obs = guide_adata.obs.drop(\"corr_feature_call\", axis=1)\n",
    "guide_adata.obs = guide_adata.obs.drop(\"corr_num_umis\", axis=1)\n",
    "\n",
    "# Convert type\n",
    "guide_adata.obs[\"guide_num_umis\"] = guide_adata.obs[\"guide_num_umis\"].astype(dtype=\"int\")"
   ]
  },
  {
   "cell_type": "code",
   "execution_count": null,
   "metadata": {},
   "outputs": [],
   "source": [
    "guide_adata.obs[\"guide_target\"] = pd.Series(dtype=\"str\")\n",
    "guide_adata.obs[\"guide_version\"] = pd.Series(dtype=\"str\")\n",
    "\n",
    "for cell in range(len(guide_adata.obs)):\n",
    "\n",
    "    guide_name = guide_adata.obs.loc[guide_adata.obs.index[cell], \"guide_name\"]\n",
    "\n",
    "    target, version = split_guide_name(guide_name)\n",
    "\n",
    "    guide_adata.obs.loc[guide_adata.obs.index[cell], \"guide_target\"] = target\n",
    "    guide_adata.obs.loc[guide_adata.obs.index[cell], \"guide_version\"] = version\n"
   ]
  },
  {
   "cell_type": "code",
   "execution_count": null,
   "metadata": {},
   "outputs": [],
   "source": [
    "guide_adata.var['mt'] = guide_adata.var_names.str.startswith('mt-')\n",
    "guide_adata.var['ribo'] = guide_adata.var_names.str.startswith('Rpl') | guide_adata.var_names.str.startswith('Rps')\n",
    "sc.pp.calculate_qc_metrics(guide_adata, qc_vars=['mt', \"ribo\"], percent_top=None, log1p=False, inplace=True)"
   ]
  },
  {
   "cell_type": "code",
   "execution_count": null,
   "metadata": {},
   "outputs": [],
   "source": [
    "fig, (ax1, ax2) = plt.subplots(2, 1, figsize = (4, 8))\n",
    "p1 = sc.pl.scatter(guide_adata, x='total_counts', y='n_genes_by_counts', show=False, ax=ax1)\n",
    "p2 = sc.pl.scatter(guide_adata, x='total_counts', y='pct_counts_mt', show=False, ax=ax2)"
   ]
  },
  {
   "cell_type": "code",
   "execution_count": null,
   "metadata": {},
   "outputs": [],
   "source": [
    "# Filter mito genes by cutoff (%)\n",
    "MITO_CUTOFF = 5\n",
    "\n",
    "total_cell_count = len(guide_adata)\n",
    "guide_adata = guide_adata[guide_adata.obs.pct_counts_mt < MITO_CUTOFF, :]\n",
    "\n",
    "print(f\"Filter by cutoff {MITO_CUTOFF}% out \" \\\n",
    "      f\"{total_cell_count - len(guide_adata)}/{total_cell_count} cells by parameter\" \\\n",
    "      f\"'pct_counts_mt' ({round(len(guide_adata) / total_cell_count * 100, 2)}%)\")\n",
    "\n",
    "\n",
    "print(f\"Got a final count of {len(guide_adata)} cells in \" \\\n",
    "      f\"dataset ({round(len(guide_adata) / total_cell_count * 100, 2)}%)\")"
   ]
  },
  {
   "cell_type": "code",
   "execution_count": null,
   "metadata": {},
   "outputs": [],
   "source": [
    "scv.pp.normalize_per_cell(guide_adata)\n",
    "scv.pp.filter_genes_dispersion(\n",
    "    guide_adata,\n",
    "    min_mean=0.0125,\n",
    "    max_mean=3,\n",
    "    min_disp=0.5,\n",
    "    subset=False\n",
    ")"
   ]
  },
  {
   "cell_type": "code",
   "execution_count": null,
   "metadata": {},
   "outputs": [],
   "source": [
    "guide_adata.raw = guide_adata\n",
    "sc.pp.regress_out(guide_adata, ['total_counts'])\n",
    "sc.pp.scale(guide_adata, max_value=10)"
   ]
  },
  {
   "cell_type": "code",
   "execution_count": null,
   "metadata": {},
   "outputs": [],
   "source": [
    "sc.pp.pca(guide_adata)\n",
    "sc.pp.neighbors(guide_adata)\n",
    "sc.tl.leiden(guide_adata, resolution=0.5)\n",
    "sc.tl.umap(guide_adata)"
   ]
  },
  {
   "cell_type": "code",
   "execution_count": null,
   "metadata": {},
   "outputs": [],
   "source": [
    "# Show batch Effekt\n",
    "plot = sc.pl.umap(\n",
    "    guide_adata,\n",
    "    color=[\"leiden\"],\n",
    "    show = False,\n",
    "    frameon = False,\n",
    "    title=[\"UMAP with leiden clustering\"]\n",
    ")"
   ]
  },
  {
   "cell_type": "markdown",
   "metadata": {},
   "source": [
    "### Load TCR data"
   ]
  },
  {
   "cell_type": "code",
   "execution_count": null,
   "metadata": {},
   "outputs": [],
   "source": [
    "filename = os.path.join(RAW_DATA_DIR, SAMPLE, \"filtered_contig_annotations.csv\")"
   ]
  },
  {
   "cell_type": "code",
   "execution_count": null,
   "metadata": {},
   "outputs": [],
   "source": [
    "# Load TCR\n",
    "tcr = ir.io.read_10x_vdj(path=filename)\n",
    "\n",
    "# Insert TCR data into full adata\n",
    "guide_adata.obs = pd.DataFrame.merge(guide_adata.obs, tcr.obs, left_index=True, right_index=True, how=\"left\")\n",
    "\n",
    "# QC\n",
    "ir.tl.chain_qc(guide_adata)\n",
    "ax = ir.pl.group_abundance(guide_adata, groupby=\"receptor_subtype\", target_col=\"leiden\")"
   ]
  },
  {
   "cell_type": "code",
   "execution_count": null,
   "metadata": {},
   "outputs": [],
   "source": [
    "ax = ir.pl.group_abundance(guide_adata, groupby=\"chain_pairing\", target_col=\"leiden\")"
   ]
  },
  {
   "cell_type": "code",
   "execution_count": null,
   "metadata": {},
   "outputs": [],
   "source": [
    "ax = sc.pl.umap(guide_adata, color=\"chain_pairing\", groups=\"single pair\")"
   ]
  },
  {
   "cell_type": "code",
   "execution_count": null,
   "metadata": {},
   "outputs": [],
   "source": [
    "ir.pp.ir_dist(guide_adata)\n",
    "ir.tl.define_clonotypes(guide_adata, receptor_arms=\"all\", dual_ir=\"primary_only\")\n",
    "\n",
    "ir.tl.clonal_expansion(guide_adata)\n",
    "sc.pl.umap(guide_adata, color=\"clonal_expansion\")"
   ]
  },
  {
   "cell_type": "code",
   "execution_count": null,
   "metadata": {},
   "outputs": [],
   "source": [
    "def make_unique_clone_id(adata_obj, prefix):\n",
    "    adata_obj.obs.loc[adata_obj.obs[\"clone_id\"].isna(), \"clone_id\"] = None\n",
    "    adata_obj.obs[\"clone_id\"] = adata_obj.obs[\"clone_id\"].astype(str)\n",
    "    adata_obj.obs.loc[\n",
    "        ~adata_obj.obs[\"clone_id\"].isna(),\n",
    "        \"clone_id\"\n",
    "    ] = prefix + \"-\" + adata_obj.obs.loc[\n",
    "        adata_obj.obs[\"clone_id\"] != \"nan\",\n",
    "        \"clone_id\"\n",
    "    ]\n",
    "    return adata_obj"
   ]
  },
  {
   "cell_type": "code",
   "execution_count": null,
   "metadata": {},
   "outputs": [],
   "source": [
    "filtered_rna = make_unique_clone_id(guide_adata, SAMPLE)"
   ]
  },
  {
   "attachments": {},
   "cell_type": "markdown",
   "metadata": {},
   "source": [
    "### Save checkpoint"
   ]
  },
  {
   "cell_type": "code",
   "execution_count": null,
   "metadata": {},
   "outputs": [],
   "source": [
    "save_checkpoint(\n",
    "    adata_obj=guide_adata,\n",
    "    filename=os.path.join(CHECKPOINT_DIR, f\"{PROJECT_NAME}-{SAMPLE}-preprocessed.h5ad\"),\n",
    "    overwrite=True\n",
    ")"
   ]
  }
 ],
 "metadata": {
  "kernelspec": {
   "display_name": "venv",
   "language": "python",
   "name": "python3"
  },
  "language_info": {
   "codemirror_mode": {
    "name": "ipython",
    "version": 3
   },
   "file_extension": ".py",
   "mimetype": "text/x-python",
   "name": "python",
   "nbconvert_exporter": "python",
   "pygments_lexer": "ipython3",
   "version": "3.8.10"
  },
  "orig_nbformat": 4
 },
 "nbformat": 4,
 "nbformat_minor": 2
}
