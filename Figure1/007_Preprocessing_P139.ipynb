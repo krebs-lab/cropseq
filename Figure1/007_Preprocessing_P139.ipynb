{
 "cells": [
  {
   "cell_type": "code",
   "execution_count": null,
   "metadata": {},
   "outputs": [],
   "source": [
    "# Project description\n",
    "PROJECT_NAME = \"ANCA\"\n",
    "PATIENT_NAME = \"P139\"\n",
    "\n",
    "import os\n",
    "import math\n",
    "\n",
    "# Import section\n",
    "import logging\n",
    "logging.basicConfig(level=logging.INFO)\n",
    "\n",
    "import warnings\n",
    "warnings.simplefilter(\"ignore\", category=UserWarning)\n",
    "warnings.simplefilter(\"ignore\", category=FutureWarning)\n",
    "warnings.simplefilter(\"ignore\", category=DeprecationWarning)\n",
    "\n",
    "import os\n",
    "from glob import glob\n",
    "\n",
    "from anndata import AnnData\n",
    "\n",
    "import numpy as np\n",
    "import pandas as pd\n",
    "import matplotlib.pyplot as plt\n",
    "import seaborn as sns\n",
    "from scipy.cluster.vq import kmeans, vq\n",
    "\n",
    "import scanpy as sc\n",
    "import scirpy as ir\n",
    "\n",
    "sc.logging.print_header()\n",
    "\n",
    "import scvelo as scv\n",
    "\n",
    "scv.logging.print_version()\n",
    "scv.settings.verbosity = 3\n",
    "scv.settings.presenter_view = True\n",
    "scv.set_figure_params('scvelo')\n",
    "\n",
    "\n",
    "BASE_DIR = os.getcwd()\n",
    "\n",
    "DATA_DIR = os.path.join(BASE_DIR, \"data\")\n",
    "PROJECT_CHECKPOINT_DIR = os.path.join(DATA_DIR, \"checkpoints\")\n",
    "RAW_DATA_DIR = os.path.join(DATA_DIR, \"raw\")\n",
    "\n",
    "\n",
    "# Checkpoint handling functions\n",
    "\n",
    "def save_checkpoint(adata_obj, filename, overwrite=False):\n",
    "    filename = os.path.join(PROJECT_CHECKPOINT_DIR, filename)\n",
    "    if os.path.isfile(filename) and not overwrite:\n",
    "        raise FileExistsError(f\"File '{filename}' already exists\")\n",
    "    adata_obj.write_h5ad(filename)\n",
    "\n",
    "def load_checkpoint(filename):\n",
    "    filename = os.path.join(PROJECT_CHECKPOINT_DIR, filename)\n",
    "    if not os.path.isfile(filename):\n",
    "        raise FileNotFoundError(f\"Cant find file '{filename}'\")\n",
    "    return sc.read_h5ad(filename)\n",
    "\n",
    "def list_checkpoints():\n",
    "    found_checkpoints = glob(os.path.join(PROJECT_CHECKPOINT_DIR, \"*\"))\n",
    "    found_checkpoints = [os.path.split(filename)[1] for filename in found_checkpoints]\n",
    "    print(f\"Found {len(found_checkpoints)} checkpoint files in dir '{PROJECT_CHECKPOINT_DIR}'\")\n",
    "    return found_checkpoints\n",
    "\n",
    "\n",
    "# Cluster Hashtag data\n",
    "def get_hashtag_splitting_threshold(adata_obj, obs_name: str):\n",
    "    data = adata_obj.obs[obs_name]\n",
    "\n",
    "    codebook, _ = kmeans(data, 2)\n",
    "    cluster_indices, _ = vq(data, codebook)\n",
    "\n",
    "    # get cluster thresholds\n",
    "    cluster0_th = min(data[cluster_indices == 0])\n",
    "    cluster1_th = min(data[cluster_indices == 1])\n",
    "\n",
    "    splitting_th = max(cluster1_th, cluster0_th)\n",
    "    return splitting_th\n",
    "\n",
    "\n",
    "def plot_hashtag_expression(adata_obj, obs_name: str, splitting_th: int = None, title: str = None, ax=None):\n",
    "\n",
    "    ax = sns.histplot(\n",
    "        adata_obj.obs,\n",
    "        x=obs_name,\n",
    "        bins=100,\n",
    "        # hue=\"has_\" + obs_name,\n",
    "        ax=ax\n",
    "    )\n",
    "    if title is None:\n",
    "        title = obs_name\n",
    "\n",
    "    ax.set_title(f\"{title}\\nNormalized Expression Filter Threshold\")\n",
    "    ax.set_xlabel(\"log1p(expression)\")\n",
    "    ax.set_ylabel(\"frequency\")\n",
    "\n",
    "    if splitting_th is not None:\n",
    "        ax.vlines(x = splitting_th, ymin=1,ymax=ax.get_ylim()[1], color=\"darkred\")\n",
    "    return ax\n",
    "\n",
    "\n",
    "def keep_cells_above_threshold(adata_obj: AnnData, obs_name: str, splitting_th: int) -> AnnData:\n",
    "    total_cells = len(adata_obj.obs)\n",
    "    adata_obj = adata_obj[adata_obj.obs[adata_obj.obs[obs_name] >= splitting_th].index, :]\n",
    "    print(f\"{len(adata_obj.obs)} / {total_cells} cells kept ({round(len(adata_obj.obs) / total_cells * 100, 2)} %).\")\n",
    "    return adata_obj\n",
    "\n",
    "\n",
    "def keep_cells_below_threshold(adata_obj: AnnData, obs_name: str, splitting_th: int) -> AnnData:\n",
    "    total_cells = len(adata_obj.obs)\n",
    "    adata_obj = adata_obj[adata_obj.obs[adata_obj.obs[obs_name] <= splitting_th].index, :]\n",
    "    print(f\"{len(adata_obj.obs)} / {total_cells} cells kept ({round(len(adata_obj.obs) / total_cells * 100, 2)} %).\")\n",
    "    return adata_obj\n",
    "\n",
    "def exclude_cluster(adata_obj: AnnData, cluster: str, obs_name: str = \"leiden\") -> AnnData:\n",
    "    total_cells = len(adata_obj.obs)\n",
    "    adata_obj = adata_obj[adata_obj.obs[obs_name] != cluster, :]\n",
    "    print(f\"{len(adata_obj.obs)} / {total_cells} cells kept ({round(len(adata_obj.obs) / total_cells * 100, 2)} %).\")\n",
    "    return adata_obj"
   ]
  },
  {
   "cell_type": "code",
   "execution_count": null,
   "metadata": {},
   "outputs": [],
   "source": [
    "# Load 10X Single cell mnatrix with scanpy\n",
    "adata = sc.read_10x_mtx(os.path.join(RAW_DATA_DIR, PATIENT_NAME) , cache=False, var_names='gene_symbols', gex_only=False)\n",
    "adata.var_names_make_unique()\n",
    "adata.layers[\"counts\"] = adata.X.copy()\n",
    "\n",
    "print(f\"{len(adata)} cells in dataset\")"
   ]
  },
  {
   "cell_type": "code",
   "execution_count": null,
   "metadata": {},
   "outputs": [],
   "source": [
    "protein = adata[:,\n",
    "                (adata.var[\"feature_types\"] == \"Antibody Capture\") & \\\n",
    "                (~adata.var[\"gene_ids\"].isin([\"HashB\", \"HashK\"]))\n",
    "               ].copy()\n",
    "\n",
    "hashtags = adata[:,\n",
    "                (adata.var[\"feature_types\"] == \"Antibody Capture\") & \\\n",
    "                (adata.var[\"gene_ids\"].isin([\"HashB\", \"HashK\"]))\n",
    "               ].copy()\n",
    "\n",
    "rna = adata[:, adata.var[\"feature_types\"] == \"Gene Expression\"].copy()"
   ]
  },
  {
   "cell_type": "markdown",
   "metadata": {},
   "source": [
    "### Hashtag preprocessing"
   ]
  },
  {
   "cell_type": "code",
   "execution_count": null,
   "metadata": {},
   "outputs": [],
   "source": [
    "ORGANS = {\n",
    "    \"hashtag_kidney\": \"HashK\",\n",
    "    \"hashtag_blood\": \"HashB\",\n",
    "}\n",
    "\n",
    "# Preprocessing\n",
    "hashtags.layers[\"log1p\"] = hashtags.X.copy()\n",
    "hashtags.layers[\"log1p\"] = np.log1p(hashtags.X).copy()\n",
    "\n",
    "# Map expression to OBS data\n",
    "for hashtag_obs, hashtag_id in ORGANS.items():\n",
    "    # if hashtag_id in hashtags.var[\"gene_ids\"]:\n",
    "    if hashtags.var[\"gene_ids\"].str.contains(hashtag_id).any():\n",
    "        print(f\"{hashtag_id} found in hashtags.\")\n",
    "        hashtags.obs[hashtag_obs] = hashtags[:, hashtags.var[\"gene_ids\"] == hashtag_id].layers[\"log1p\"].toarray()\n",
    "    else:\n",
    "        print(f\"{hashtag_id} not in hashtags.\")"
   ]
  },
  {
   "cell_type": "code",
   "execution_count": null,
   "metadata": {},
   "outputs": [],
   "source": [
    "# rna.obs = hashtags.obs.copy()\n",
    "rna.obs = rna.obs.merge(hashtags.obs, left_index=True, right_index=True)"
   ]
  },
  {
   "cell_type": "markdown",
   "metadata": {},
   "source": [
    "### CiteSeq Preprocessing"
   ]
  },
  {
   "cell_type": "code",
   "execution_count": null,
   "metadata": {},
   "outputs": [],
   "source": [
    "for adt_id in protein.var.index.tolist():\n",
    "    protein.obs[adt_id] = np.log1p(\n",
    "        protein[: ,protein.var.index == adt_id].X.toarray()\n",
    "    )"
   ]
  },
  {
   "cell_type": "code",
   "execution_count": null,
   "metadata": {},
   "outputs": [],
   "source": [
    "# Merge OBS data to RNA\n",
    "rna.obs = rna.obs.merge(protein.obs, left_index=True, right_index=True)"
   ]
  },
  {
   "cell_type": "markdown",
   "metadata": {},
   "source": [
    "### Transcriptome processing"
   ]
  },
  {
   "cell_type": "code",
   "execution_count": null,
   "metadata": {},
   "outputs": [],
   "source": [
    "rna.var['mt'] = rna.var_names.str.startswith('MT-')\n",
    "rna.var['ribo'] = rna.var_names.str.startswith('RPL') | rna.var_names.str.startswith('RPS')\n",
    "sc.pp.calculate_qc_metrics(rna, qc_vars=['mt', \"ribo\"], percent_top=None, log1p=False, inplace=True)"
   ]
  },
  {
   "cell_type": "code",
   "execution_count": null,
   "metadata": {},
   "outputs": [],
   "source": [
    "fig, (ax1, ax2) = plt.subplots(2, 1, figsize = (4, 8))\n",
    "p1 = sc.pl.scatter(rna, x='total_counts', y='n_genes_by_counts', show=False, ax=ax1)\n",
    "p2 = sc.pl.scatter(rna, x='total_counts', y='pct_counts_mt', show=False, ax=ax2)"
   ]
  },
  {
   "cell_type": "code",
   "execution_count": null,
   "metadata": {},
   "outputs": [],
   "source": [
    "# Filter mito genes by cutoff (%)\n",
    "MITO_CUTOFF = 20\n",
    "\n",
    "total_cell_count = len(rna)\n",
    "rna = rna[rna.obs.pct_counts_mt < MITO_CUTOFF, :]\n",
    "\n",
    "print(f\"Filter by cutoff {MITO_CUTOFF}% out \" \\\n",
    "      f\"{total_cell_count - len(rna)}/{total_cell_count} cells by parameter\" \\\n",
    "      f\"'pct_counts_mt' ({round(len(rna) / total_cell_count * 100, 2)}%)\")\n",
    "\n",
    "\n",
    "print(f\"Got a final count of {len(rna)} cells in \" \\\n",
    "      f\"dataset ({round(len(rna) / total_cell_count * 100, 2)}%)\")"
   ]
  },
  {
   "cell_type": "code",
   "execution_count": null,
   "metadata": {},
   "outputs": [],
   "source": [
    "scv.pp.normalize_per_cell(rna)\n",
    "scv.pp.filter_genes_dispersion(\n",
    "    rna,\n",
    "    min_mean=0.0125,\n",
    "    max_mean=3,\n",
    "    min_disp=0.5,\n",
    "    subset=False\n",
    ")"
   ]
  },
  {
   "cell_type": "code",
   "execution_count": null,
   "metadata": {},
   "outputs": [],
   "source": [
    "rna.raw = rna"
   ]
  },
  {
   "cell_type": "code",
   "execution_count": null,
   "metadata": {},
   "outputs": [],
   "source": [
    "sc.pp.scale(rna, max_value=10)"
   ]
  },
  {
   "cell_type": "code",
   "execution_count": null,
   "metadata": {},
   "outputs": [],
   "source": [
    "sc.tl.pca(rna, svd_solver='arpack')\n",
    "sc.pp.neighbors(rna)\n",
    "sc.tl.umap(rna)\n",
    "sc.tl.leiden(rna)"
   ]
  },
  {
   "cell_type": "code",
   "execution_count": null,
   "metadata": {},
   "outputs": [],
   "source": [
    "# Save UMAP plot with leiden CLustering\n",
    "plot = sc.pl.umap(rna,\n",
    "                  color=[\"leiden\"],\n",
    "                  show = False,\n",
    "                  frameon = False,\n",
    "                  title=\"UMAP with leiden clustering\")\n",
    "\n",
    "fig = plot.get_figure()\n",
    "fig.set_tight_layout(True)"
   ]
  },
  {
   "cell_type": "code",
   "execution_count": null,
   "metadata": {},
   "outputs": [],
   "source": [
    "filename = os.path.join(RAW_DATA_DIR, PATIENT_NAME, \"filtered_contig_annotations.csv\")"
   ]
  },
  {
   "cell_type": "code",
   "execution_count": null,
   "metadata": {},
   "outputs": [],
   "source": [
    "# Load TCR\n",
    "tcr = ir.io.read_10x_vdj(path=filename)\n",
    "\n",
    "# Insert TCR data into full adata\n",
    "rna.obs = pd.DataFrame.merge(rna.obs, tcr.obs, left_index=True, right_index=True, how=\"left\")"
   ]
  },
  {
   "cell_type": "code",
   "execution_count": null,
   "metadata": {},
   "outputs": [],
   "source": [
    "ir.tl.chain_qc(rna)"
   ]
  },
  {
   "cell_type": "code",
   "execution_count": null,
   "metadata": {},
   "outputs": [],
   "source": [
    "ir.pp.ir_dist(rna)\n",
    "ir.tl.define_clonotypes(rna, receptor_arms=\"all\", dual_ir=\"primary_only\")"
   ]
  },
  {
   "cell_type": "code",
   "execution_count": null,
   "metadata": {},
   "outputs": [],
   "source": [
    "ir.tl.clonal_expansion(rna)"
   ]
  },
  {
   "cell_type": "code",
   "execution_count": null,
   "metadata": {},
   "outputs": [],
   "source": [
    "def make_unique_clone_id(adata_obj: AnnData, prefix):\n",
    "    adata_obj.obs.loc[adata_obj.obs[\"clone_id\"].isna(), \"clone_id\"] = None\n",
    "    adata_obj.obs[\"clone_id\"] = adata_obj.obs[\"clone_id\"].astype(str)\n",
    "    adata_obj.obs.loc[\n",
    "        ~adata_obj.obs[\"clone_id\"].isna(),\n",
    "        \"clone_id\"\n",
    "    ] = prefix + \"-\" + adata_obj.obs.loc[\n",
    "        adata_obj.obs[\"clone_id\"] != \"nan\",\n",
    "        \"clone_id\"\n",
    "    ]\n",
    "    return adata_obj"
   ]
  },
  {
   "cell_type": "code",
   "execution_count": null,
   "metadata": {},
   "outputs": [],
   "source": [
    "adata = make_unique_clone_id(rna, PATIENT_NAME)"
   ]
  },
  {
   "cell_type": "markdown",
   "metadata": {},
   "source": [
    "### Merge Single Cell Velocity data"
   ]
  },
  {
   "cell_type": "code",
   "execution_count": null,
   "metadata": {},
   "outputs": [],
   "source": [
    "scvelo_adata = scv.read_loom(os.path.join(RAW_DATA_DIR, PATIENT_NAME, \"PatientAlignment.loom\"))\n",
    "scvelo_adata.var_names_make_unique()\n",
    "\n",
    "# Rename indices\n",
    "unique_index_prefix = scvelo_adata.obs.index[0].split(\":\")[0]\n",
    "scvelo_adata.obs = scvelo_adata.obs.rename(index = lambda ind : ind.replace(\"x\", \"-1\").replace(f\"{unique_index_prefix}:\", \"\"))\n",
    "\n",
    "# Rename columns to avoid conflicts\n",
    "scvelo_adata.obs = scvelo_adata.obs.rename(columns = {\n",
    "    \"_X\": \"scvelo_tsne_X\",\n",
    "    \"_Y\": \"scvelo_tsne_Y\",\n",
    "    \"Clusters\": \"scvelo_clusters\",\n",
    "})"
   ]
  },
  {
   "cell_type": "code",
   "execution_count": null,
   "metadata": {},
   "outputs": [],
   "source": [
    "# Find intersect barcodes\n",
    "intersect_barcodes = scvelo_adata.obs.index.intersection(adata.obs.index)\n",
    "\n",
    "# filter RNA dataset for\n",
    "adata = adata[intersect_barcodes, :]"
   ]
  },
  {
   "cell_type": "code",
   "execution_count": null,
   "metadata": {},
   "outputs": [],
   "source": [
    "# Merge OBS data to RNA\n",
    "adata.obs = adata.obs.merge(scvelo_adata.obs, how=\"left\", left_index=True, right_index=True)\n",
    "print(f\"{len(adata)} final cells in dataset\")"
   ]
  },
  {
   "cell_type": "code",
   "execution_count": null,
   "metadata": {},
   "outputs": [],
   "source": [
    "# Merge VAR data to RNA\n",
    "adata.var = adata.var.merge(scvelo_adata.var, how=\"left\", left_index=True, right_index=True)"
   ]
  },
  {
   "cell_type": "code",
   "execution_count": null,
   "metadata": {},
   "outputs": [],
   "source": [
    "# Filter scvelo_adata object for shape of filtered RNA data\n",
    "scvelo_adata = scvelo_adata[intersect_barcodes, :]\n",
    "\n",
    "# Check if same size\n",
    "assert len(adata) == len(scvelo_adata)"
   ]
  },
  {
   "cell_type": "code",
   "execution_count": null,
   "metadata": {},
   "outputs": [],
   "source": [
    "#  Copy all layers to filtered RNA object\n",
    "for layer_name in list(scvelo_adata.layers):\n",
    "    print(f\"Merge layer {layer_name}\")\n",
    "    adata.layers[layer_name] = scvelo_adata.layers[layer_name].copy()"
   ]
  },
  {
   "attachments": {},
   "cell_type": "markdown",
   "metadata": {},
   "source": [
    "### Isolate CD3+ cells"
   ]
  },
  {
   "cell_type": "code",
   "execution_count": null,
   "metadata": {},
   "outputs": [],
   "source": [
    "sc.pp.pca(adata, svd_solver='arpack', n_comps=40)\n",
    "sc.pp.neighbors(adata, n_neighbors=40, n_pcs=40)\n",
    "sc.tl.leiden(adata, resolution = 0.5)\n",
    "sc.tl.umap(adata)"
   ]
  },
  {
   "cell_type": "code",
   "execution_count": null,
   "metadata": {},
   "outputs": [],
   "source": [
    "sc.pl.umap(adata, color=[\"CD4\", \"CD4_TotalSeqC\", \"leiden\"])"
   ]
  },
  {
   "cell_type": "code",
   "execution_count": null,
   "metadata": {},
   "outputs": [],
   "source": [
    "adata = exclude_cluster(adata_obj=adata, cluster=\"2\")\n",
    "adata = exclude_cluster(adata_obj=adata, cluster=\"4\")"
   ]
  },
  {
   "cell_type": "code",
   "execution_count": null,
   "metadata": {},
   "outputs": [],
   "source": [
    "# th = get_hashtag_splitting_threshold(adata, \"CD8_TotalSeqC\")\n",
    "plot_hashtag_expression(adata, \"CD8_TotalSeqC\", splitting_th=0.1)\n",
    "adata = keep_cells_below_threshold(adata, \"CD8_TotalSeqC\", splitting_th=0.1)"
   ]
  },
  {
   "attachments": {},
   "cell_type": "markdown",
   "metadata": {},
   "source": [
    "### Isolate CD4+ cells"
   ]
  },
  {
   "cell_type": "code",
   "execution_count": null,
   "metadata": {},
   "outputs": [],
   "source": [
    "sc.pp.pca(adata)\n",
    "sc.pp.neighbors(adata)\n",
    "sc.tl.leiden(adata)\n",
    "sc.tl.umap(adata)"
   ]
  },
  {
   "cell_type": "code",
   "execution_count": null,
   "metadata": {},
   "outputs": [],
   "source": [
    "sc.pl.umap(adata, color=[\"CD4_TotalSeqC\", \"leiden\"])"
   ]
  },
  {
   "attachments": {},
   "cell_type": "markdown",
   "metadata": {},
   "source": [
    "### Save checkpoint"
   ]
  },
  {
   "cell_type": "code",
   "execution_count": null,
   "metadata": {},
   "outputs": [],
   "source": [
    "save_checkpoint(\n",
    "    adata_obj=adata,\n",
    "    filename=os.path.join(PROJECT_CHECKPOINT_DIR, f\"{PROJECT_NAME}-{PATIENT_NAME}-preprocessed.h5ad\"),\n",
    "    overwrite=True\n",
    ")"
   ]
  }
 ],
 "metadata": {
  "kernelspec": {
   "display_name": "venv",
   "language": "python",
   "name": "python3"
  },
  "language_info": {
   "codemirror_mode": {
    "name": "ipython",
    "version": 3
   },
   "file_extension": ".py",
   "mimetype": "text/x-python",
   "name": "python",
   "nbconvert_exporter": "python",
   "pygments_lexer": "ipython3",
   "version": "3.8.10"
  },
  "orig_nbformat": 4
 },
 "nbformat": 4,
 "nbformat_minor": 2
}
