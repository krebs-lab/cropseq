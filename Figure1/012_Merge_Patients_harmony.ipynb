{
 "cells": [
  {
   "cell_type": "code",
   "execution_count": null,
   "metadata": {},
   "outputs": [],
   "source": [
    "# Global variables\n",
    "PROJECT_NAME = \"ANCA\"\n",
    "\n",
    "\n",
    "# Import section\n",
    "import logging\n",
    "logging.basicConfig(level=logging.INFO)\n",
    "\n",
    "import warnings\n",
    "warnings.simplefilter(\"ignore\", category=UserWarning)\n",
    "warnings.simplefilter(\"ignore\", category=FutureWarning)\n",
    "warnings.simplefilter(\"ignore\", category=DeprecationWarning)\n",
    "\n",
    "import os\n",
    "from glob import glob\n",
    "\n",
    "import numpy as np\n",
    "import pandas as pd\n",
    "import matplotlib.pyplot as plt\n",
    "import seaborn as sns\n",
    "\n",
    "from anndata import AnnData\n",
    "import scanpy as sc\n",
    "import scanpy.external as sce\n",
    "\n",
    "sc.logging.print_header()\n",
    "\n",
    "import scvelo as scv\n",
    "import scirpy as ir\n",
    "\n",
    "scv.logging.print_version()\n",
    "scv.settings.verbosity = 3\n",
    "scv.settings.presenter_view = True\n",
    "scv.set_figure_params('scvelo')\n",
    "\n",
    "\n",
    "BASE_DIR = os.getcwd()\n",
    "\n",
    "DATA_DIR = os.path.join(BASE_DIR, \"data\")\n",
    "PROJECT_CHECKPOINT_DIR = os.path.join(DATA_DIR, \"checkpoints\")\n",
    "RAW_DATA_DIR = os.path.join(DATA_DIR, \"raw\")\n",
    "PROCESSED_DIR = os.path.join(DATA_DIR, \"processed\")\n",
    "PDF_DIR = os.path.join(PROCESSED_DIR, \"pdf\")\n",
    "\n",
    "\n",
    "PROJECTS = [\n",
    "    \"P053\",\n",
    "    \"P067\",\n",
    "    \"P070\",\n",
    "    \"P129\",\n",
    "    \"P137\",\n",
    "    \"P138\",\n",
    "    \"P139\",\n",
    "    \"P140\",\n",
    "    \"P143\",\n",
    "    \"P150\",\n",
    "    \"P152\",\n",
    "]\n",
    "\n",
    "\n",
    "# Checkpoint handling functions\n",
    "\n",
    "def save_checkpoint(adata_obj, filename, overwrite=False):\n",
    "    filename = os.path.join(PROJECT_CHECKPOINT_DIR, filename)\n",
    "    if os.path.isfile(filename) and not overwrite:\n",
    "        raise FileExistsError(f\"File '{filename}' already exists\")\n",
    "    adata_obj.write_h5ad(filename)\n",
    "\n",
    "def load_checkpoint(filename):\n",
    "    filename = os.path.join(PROJECT_CHECKPOINT_DIR, filename)\n",
    "    if not os.path.isfile(filename):\n",
    "        raise FileNotFoundError(f\"Cant find file '{filename}'\")\n",
    "    return sc.read_h5ad(filename)\n",
    "\n",
    "def list_checkpoints():\n",
    "    found_checkpoints = glob(os.path.join(PROJECT_CHECKPOINT_DIR, \"*\"))\n",
    "    found_checkpoints = [os.path.split(filename)[1] for filename in found_checkpoints]\n",
    "    print(f\"Found {len(found_checkpoints)} checkpoint files in dir '{PROJECT_CHECKPOINT_DIR}'\")\n",
    "    return found_checkpoints\n",
    "\n",
    "def sfile(filename):\n",
    "    _fname = os.path.join(PDF_DIR, f\"{PROJECT_NAME}-{filename}\")\n",
    "    print(f\"File save at '{_fname}'\")\n",
    "    return _fname\n"
   ]
  },
  {
   "cell_type": "code",
   "execution_count": null,
   "metadata": {},
   "outputs": [],
   "source": [
    "# Load checkpoints to AnnData Objects\n",
    "adata_objs = {}\n",
    "\n",
    "for patient in PROJECTS:\n",
    "    adata_objs[patient] = load_checkpoint(f\"{PROJECT_NAME}-{patient}-preprocessed.h5ad\")"
   ]
  },
  {
   "cell_type": "code",
   "execution_count": null,
   "metadata": {},
   "outputs": [],
   "source": [
    "# Concat AnnData Objects\n",
    "adata_concat = list(adata_objs.values())[0].concatenate(\n",
    "    list(adata_objs.values())[1:],\n",
    "    batch_categories=PROJECTS\n",
    ")\n",
    "\n",
    "del adata_objs"
   ]
  },
  {
   "cell_type": "code",
   "execution_count": null,
   "metadata": {},
   "outputs": [],
   "source": [
    "# Rerun concat dataset PCA and neighbor analysis\n",
    "sc.pp.pca(adata_concat, svd_solver='arpack', n_comps=40)\n",
    "sc.pp.neighbors(adata_concat, n_neighbors=40, n_pcs=40)\n",
    "sc.tl.leiden(adata_concat, resolution = 0.5)\n",
    "sc.tl.umap(adata_concat)"
   ]
  },
  {
   "cell_type": "code",
   "execution_count": null,
   "metadata": {},
   "outputs": [],
   "source": [
    "# Show batch Effekt\n",
    "plot = sc.pl.umap(\n",
    "    adata_concat,\n",
    "    color=[\"batch\", \"leiden\"],\n",
    "    show = False,\n",
    "    frameon = False,\n",
    "    title=[\"Batches\", \"UMAP with leiden clustering\"]\n",
    ")"
   ]
  },
  {
   "cell_type": "code",
   "execution_count": null,
   "metadata": {},
   "outputs": [],
   "source": [
    "# Run harmony\n",
    "sce.pp.harmony_integrate(adata_concat, 'batch', adjusted_basis = \"X_pca_harmony\")\n",
    "assert 'X_pca_harmony' in adata_concat.obsm"
   ]
  },
  {
   "cell_type": "code",
   "execution_count": null,
   "metadata": {},
   "outputs": [],
   "source": [
    "sc.pp.neighbors(adata_concat, use_rep = \"X_pca_harmony\")\n",
    "sc.tl.umap(adata_concat)\n",
    "sc.tl.leiden(adata_concat, resolution = 0.5, key_added=\"leiden\")"
   ]
  },
  {
   "cell_type": "code",
   "execution_count": null,
   "metadata": {},
   "outputs": [],
   "source": [
    "plot = sc.pl.umap(\n",
    "    adata_concat,\n",
    "    color=[\"batch\", \"leiden\"],\n",
    "    show = False,\n",
    "    frameon = False,\n",
    "    title=[\"Batches\", \"UMAP with leiden clustering\"]\n",
    ")"
   ]
  },
  {
   "cell_type": "code",
   "execution_count": null,
   "metadata": {},
   "outputs": [],
   "source": [
    "def exclude_cluster(adata_obj: AnnData, cluster: str, obs_name: str = \"leiden\") -> AnnData:\n",
    "    total_cells = len(adata_obj.obs)\n",
    "    adata_obj = adata_obj[adata_obj.obs[obs_name] != cluster, :]\n",
    "    print(f\"{len(adata_obj.obs)} / {total_cells} cells kept ({round(len(adata_obj.obs) / total_cells * 100, 2)} %).\")\n",
    "    return adata_obj"
   ]
  },
  {
   "cell_type": "code",
   "execution_count": null,
   "metadata": {},
   "outputs": [],
   "source": [
    "adata_concat = exclude_cluster(adata_concat, \"13\")"
   ]
  },
  {
   "cell_type": "code",
   "execution_count": null,
   "metadata": {},
   "outputs": [],
   "source": [
    "sc.pp.neighbors(adata_concat, use_rep = \"X_pca_harmony\")\n",
    "sc.tl.umap(adata_concat)\n",
    "sc.tl.leiden(adata_concat, resolution = 0.5, key_added=\"leiden\")"
   ]
  },
  {
   "cell_type": "code",
   "execution_count": null,
   "metadata": {},
   "outputs": [],
   "source": [
    "plot = sc.pl.umap(\n",
    "    adata_concat,\n",
    "    color=[\"batch\", \"leiden\"],\n",
    "    show = False,\n",
    "    frameon = False,\n",
    "    title=[\"Batches\", \"UMAP with leiden clustering\"]\n",
    ")"
   ]
  },
  {
   "cell_type": "code",
   "execution_count": null,
   "metadata": {},
   "outputs": [],
   "source": [
    "adata_concat = exclude_cluster(adata_concat, cluster=\"11\")\n",
    "adata_concat = exclude_cluster(adata_concat, cluster=\"12\")\n",
    "adata_concat = exclude_cluster(adata_concat, cluster=\"9\")"
   ]
  },
  {
   "cell_type": "code",
   "execution_count": null,
   "metadata": {},
   "outputs": [],
   "source": [
    "plot = sc.pl.umap(\n",
    "    adata_concat,\n",
    "    color=[\"batch\", \"leiden\"],\n",
    "    show = False,\n",
    "    frameon = False,\n",
    "    title=[\"Batches\", \"UMAP with leiden clustering\"]\n",
    ")"
   ]
  },
  {
   "cell_type": "code",
   "execution_count": null,
   "metadata": {},
   "outputs": [],
   "source": [
    "# Rename clusters\n",
    "cluster_names = [\n",
    "    \"CD4+\",\n",
    "    \"Naive CD4+ (SELL-high)\",\n",
    "    \"CD4 NFATC2+\",\n",
    "    \"Th17 1\",\n",
    "    \"Th17 2\",\n",
    "    \"pathogenic Th1 (GZM high)\",\n",
    "    \"Th1 1\",\n",
    "    \"Follikular T helper\",\n",
    "    \"Treg\",\n",
    "    \"Th1 2\",\n",
    "]\n",
    "\n",
    "adata_concat.rename_categories(\"leiden\", cluster_names)"
   ]
  },
  {
   "cell_type": "code",
   "execution_count": null,
   "metadata": {},
   "outputs": [],
   "source": [
    "fig, ax = plt.subplots(figsize = (7, 15))\n",
    "\n",
    "marker_gene_list = [\n",
    "    \"TCF7\",\n",
    "    \"CCR7\",\n",
    "    \"SELL\",\n",
    "    \"ITGA2\",\n",
    "    \"RORA\",\n",
    "    \"IL2\",\n",
    "    \"TNF\",\n",
    "    \"TGFBR2\",\n",
    "    \"IL17RA\",\n",
    "    \"IL17A\",\n",
    "    \"RORC\",\n",
    "    \"CCR6\",\n",
    "    \"S1PR1\",\n",
    "    \"NFATC2\",\n",
    "    \"TGFBR3\",\n",
    "    \"TBX21\",\n",
    "    \"IFNG\",\n",
    "    \"GZMA\",\n",
    "    \"GZMB\",\n",
    "    \"PRF1\",\n",
    "    \"EOMES\",\n",
    "    \"CXCR3\",\n",
    "    \"FOXP3\",\n",
    "    \"IL10\",\n",
    "    \"CTLA4\",\n",
    "    \"TIGIT\",\n",
    "    \"IKZF2\",\n",
    "    \"IL2RA\",\n",
    "    \"CCR8\",\n",
    "    \"AHR\",\n",
    "    \"BCL6\",\n",
    "]\n",
    "\n",
    "ax = sc.pl.matrixplot(\n",
    "    adata_concat,\n",
    "    marker_gene_list,\n",
    "    groupby='leiden',\n",
    "    cmap='viridis',\n",
    "    swap_axes = True,\n",
    "    standard_scale = \"var\",\n",
    "    vmax=1,\n",
    "    vmin=0,\n",
    "    ax=ax,\n",
    "    show = False,\n",
    "    title = \"Differential Expression\"\n",
    ")\n",
    "\n",
    "fig.savefig(sfile(\"diff_expression_matrix_plot.pdf\"), transparent=True)"
   ]
  },
  {
   "cell_type": "code",
   "execution_count": null,
   "metadata": {},
   "outputs": [],
   "source": [
    "fig, ax = plt.subplots(figsize = (7, 7))\n",
    "\n",
    "ax.set_aspect('equal', 'box')\n",
    "\n",
    "ax = sc.pl.umap(\n",
    "    adata_concat,\n",
    "    color=\"leiden\",\n",
    "    title=\"UMAP Leiden\",\n",
    "    frameon=False,\n",
    "    ax = ax,\n",
    "    show = False,\n",
    ")\n",
    "\n",
    "\n",
    "ax.set_aspect('equal', 'box')\n",
    "\n",
    "fig.tight_layout()\n",
    "fig.savefig(sfile(\"umap_leiden_cluster_numbers.pdf\"), transparent=True, dpi=600)"
   ]
  },
  {
   "cell_type": "markdown",
   "metadata": {},
   "source": [
    "### PAGA"
   ]
  },
  {
   "cell_type": "code",
   "execution_count": null,
   "metadata": {},
   "outputs": [],
   "source": [
    "adata_concat.uns['neighbors']['distances'] = adata_concat.obsp['distances']\n",
    "adata_concat.uns['neighbors']['connectivities'] = adata_concat.obsp['connectivities']\n",
    "\n",
    "scv.tl.paga(adata_concat, groups='leiden')"
   ]
  },
  {
   "cell_type": "code",
   "execution_count": null,
   "metadata": {},
   "outputs": [],
   "source": [
    "fig, ax = plt.subplots(figsize = (8, 8))\n",
    "\n",
    "ax1 = scv.pl.paga(\n",
    "    adata_concat,\n",
    "    basis=\"umap\",\n",
    "    color=\"leiden\",\n",
    "    size=40,\n",
    "    alpha=0.1,\n",
    "    min_edge_width=2,\n",
    "    node_size_scale=1,\n",
    "    show = False,\n",
    "    frameon=True,\n",
    "    ax = ax,\n",
    ")\n",
    "\n",
    "ax2 = sc.pl.umap(adata_concat, ax=ax, color=\"leiden\", alpha=0.3, title=\"PAGA graph\")\n",
    "\n",
    "\n",
    "ax.get_legend().remove()\n",
    "ax.set_title(\"\")\n",
    "ax.set_xlabel(\"\")\n",
    "ax.set_ylabel(\"\")\n",
    "\n",
    "fig.tight_layout()\n",
    "fig.savefig(sfile(\"paga-umap-square.pdf\"), transparent=True, dpi=600)\n"
   ]
  },
  {
   "cell_type": "markdown",
   "metadata": {},
   "source": [
    "### TCR analysis"
   ]
  },
  {
   "cell_type": "code",
   "execution_count": null,
   "metadata": {},
   "outputs": [],
   "source": [
    "def get_clone_ids_by_cluster(adata_obj, cluster) -> list:\n",
    "    return np.unique(adata_obj.obs[\n",
    "        (adata_obj.obs[\"leiden\"] == cluster) & (~adata_obj.obs[\"clone_id\"].isna())\n",
    "    ][\"clone_id\"].tolist())\n",
    "\n",
    "def inner_join(list1, list2) -> list:\n",
    "    return list(set(list1) & set(list2))\n",
    "\n",
    "\n",
    "def get_overlapping_clone_ids(cluster_1, cluster_2):\n",
    "    return inner_join(\n",
    "        get_clone_ids_by_cluster(adata_concat, cluster_1),\n",
    "        get_clone_ids_by_cluster(adata_concat, cluster_2)\n",
    "    )\n",
    "\n",
    "def sanitize_cluster_name(value):\n",
    "    return value.replace(\" \", \"_\").replace(\"+\", \"pos\").replace(\"(\", \"\").replace(\")\", \"\")"
   ]
  },
  {
   "cell_type": "code",
   "execution_count": null,
   "metadata": {},
   "outputs": [],
   "source": [
    "cluster_names = [\n",
    "    \"CD4+\",\n",
    "    \"Naive CD4+ (SELL-high)\",\n",
    "    \"CD4 NFATC2+\",\n",
    "    \"Th17 1\",\n",
    "    \"Th17 2\",\n",
    "    \"pathogenic Th1 (GZM high)\",\n",
    "    \"Th1 1\",\n",
    "    \"Follikular T helper\",\n",
    "    \"Treg\",\n",
    "    \"Th1 2\",\n",
    "]\n",
    "\n",
    "\n",
    "for current_cluster, _ in enumerate(cluster_names):\n",
    "    fig, ax = plt.subplots(figsize = (7, 7))\n",
    "\n",
    "\n",
    "    adata_concat.obs[\"clone_id_san\"] = adata_concat.obs[\"clone_id\"].isin(\n",
    "        get_overlapping_clone_ids(cluster_names[current_cluster], cluster_names[current_cluster])\n",
    "    ).astype(str)\n",
    "    adata_concat.obs[adata_concat.obs[\"clone_id_san\"] == \"True\"]\n",
    "\n",
    "    ax = sc.pl.umap(\n",
    "        adata_concat,\n",
    "        color=[\"clone_id_san\"],\n",
    "        title=f\"Plastic clones - {cluster_names[current_cluster]}\",\n",
    "        palette={\n",
    "            \"True\": adata_concat.uns[\"leiden_colors\"][current_cluster],\n",
    "            \"False\": \"lightgrey\",\n",
    "        },\n",
    "        groups = [\"True\"],\n",
    "        legend_loc = None,\n",
    "        size=[\n",
    "            40 if c == \"True\" else 15 for c in adata_concat.obs[\"clone_id_san\"]\n",
    "        ],\n",
    "        ax = ax,\n",
    "        show = False,\n",
    "    )\n",
    "\n",
    "    fig.tight_layout()\n",
    "    fig.savefig(sfile(f\"umap-plastic-clones-square-{sanitize_cluster_name(cluster_names[current_cluster])}.pdf\"))"
   ]
  },
  {
   "cell_type": "code",
   "execution_count": null,
   "metadata": {},
   "outputs": [],
   "source": [
    "for clone_id, expansion in adata_concat.obs[\"clone_id\"].value_counts().head(20).to_dict().items():\n",
    "\n",
    "    fig, ax = plt.subplots(figsize = (7, 7))\n",
    "\n",
    "    umap_coords = adata_concat[adata_concat.obs[adata_concat.obs[\"clone_id\"] == clone_id].index].obsm[\"X_umap\"]\n",
    "\n",
    "    ax = sc.pl.umap(\n",
    "        adata_concat,\n",
    "        show=False,\n",
    "        title=f\"Clone {clone_id} ({expansion} cells)\",\n",
    "        ax=ax\n",
    "    )\n",
    "\n",
    "    plt.scatter(\n",
    "        x=np.array(umap_coords[:,0]),\n",
    "        y=np.array(umap_coords[:,1]),\n",
    "        c=\"#db2777\",\n",
    "        s=3,\n",
    "    )\n",
    "    fig.tight_layout()\n",
    "    fig.savefig(sfile(f\"highlight_clone_id_{clone_id}.pdf\"))\n"
   ]
  },
  {
   "cell_type": "code",
   "execution_count": null,
   "metadata": {},
   "outputs": [],
   "source": [
    "ir.tl.repertoire_overlap(adata_concat, \"leiden\")\n",
    "\n",
    "cg = ir.pl.repertoire_overlap(\n",
    "    adata_concat,\n",
    "    \"leiden\",\n",
    "    yticklabels=True,\n",
    "    xticklabels=True,\n",
    "    row_cluster=False,\n",
    "    col_cluster=False,\n",
    "    ax=ax,\n",
    ")\n",
    "\n",
    "cg.ax_col_dendrogram.set_visible(False)\n",
    "\n",
    "cg.fig.savefig(sfile(f\"repertoire_overlap.pdf\"))"
   ]
  },
  {
   "cell_type": "code",
   "execution_count": null,
   "metadata": {},
   "outputs": [],
   "source": [
    "fig, ax = plt.subplots(figsize = (8, 8))\n",
    "\n",
    "ax = sc.pl.umap(adata_concat, ax=ax, color=\"batch\", title=\"UMAP\")\n",
    "\n",
    "fig.tight_layout()\n",
    "fig.savefig(sfile(\"umap-batches.pdf\"), transparent=True, dpi=600)"
   ]
  },
  {
   "cell_type": "code",
   "execution_count": null,
   "metadata": {},
   "outputs": [],
   "source": [
    "adata_concat.obs[\"batch\"].value_counts()"
   ]
  },
  {
   "attachments": {},
   "cell_type": "markdown",
   "metadata": {},
   "source": [
    "### Save checkpoint"
   ]
  },
  {
   "cell_type": "code",
   "execution_count": null,
   "metadata": {},
   "outputs": [],
   "source": [
    "save_checkpoint(\n",
    "    adata_obj=adata_concat,\n",
    "    filename=os.path.join(PROJECT_CHECKPOINT_DIR, f\"{PROJECT_NAME}-merged.h5ad\"),\n",
    "    overwrite=False,\n",
    ")"
   ]
  }
 ],
 "metadata": {
  "kernelspec": {
   "display_name": "venv",
   "language": "python",
   "name": "python3"
  },
  "language_info": {
   "codemirror_mode": {
    "name": "ipython",
    "version": 3
   },
   "file_extension": ".py",
   "mimetype": "text/x-python",
   "name": "python",
   "nbconvert_exporter": "python",
   "pygments_lexer": "ipython3",
   "version": "3.8.10"
  },
  "orig_nbformat": 4
 },
 "nbformat": 4,
 "nbformat_minor": 2
}
