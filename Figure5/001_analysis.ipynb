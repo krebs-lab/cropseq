{
 "cells": [
  {
   "cell_type": "code",
   "execution_count": null,
   "metadata": {
    "vscode": {
     "languageId": "r"
    }
   },
   "outputs": [],
   "source": [
    "analysis <- \"Cropseq_20_14\"\n",
    "organ <- \"murine\"\n",
    "\n",
    "library(Seurat)\n",
    "library(ggplot2)\n",
    "library(gridExtra)\n",
    "library(stringi)\n",
    "library(grid)\n",
    "library(gridExtra)\n",
    "library(RColorBrewer)\n",
    "library(pheatmap)\n",
    "library(matrixStats)\n",
    "library(ggrepel)\n",
    "library(\"pheatmap\")\n",
    "library(\"RColorBrewer\")\n",
    "\n",
    "## Path to folders\n",
    "root <- dirname(getwd())\n",
    "\n",
    "data <- file.path(root, \"data\")\n",
    "raw <- file.path(data, \"raw\")\n",
    "RData <- file.path(data, \"RData\")\n",
    "processed <- file.path(data, \"processed\")\n",
    "pdf <- file.path(processed, \"pdf\")\n",
    "csv <- file.path(processed, \"csv\")\n",
    "interim <- file.path(data, \"interim\")\n",
    "external <- file.path(data, \"external\")\n",
    "notebooks <- file.path(root, \"notebook\")\n",
    "\n",
    "sfile <- function(path, name){\n",
    "    return(file.path(path, paste0(analysis, \"_\", organ, \"__\", name)))\n",
    "}"
   ]
  },
  {
   "cell_type": "code",
   "execution_count": null,
   "metadata": {
    "vscode": {
     "languageId": "r"
    }
   },
   "outputs": [],
   "source": [
    "load.10x <- function(path, file.name=NULL, cellranger.version = 2){\n",
    "\n",
    "    files <- c(\"genes.tsv\", \"barcodes.tsv\", \"matrix.mtx\")\n",
    "    folders <- c(\"outs\", \"filtered_gene_bc_matrices\", \"filtered_gene_bc_matrices_mex\")\n",
    "\n",
    "    if(cellranger.version == 3){\n",
    "        files <- c(\"features.tsv\", \"barcodes.tsv\", \"matrix.mtx\")\n",
    "        files <- c(files, paste0(files, \".gz\"))\n",
    "        folders <- c(\"outs\", \"filtered_feature_bc_matrix\", \"filtered_feature_bc_matrix_mex\")\n",
    "    }\n",
    "    if(!is.null(file.name))\n",
    "        files <- c(file.name)\n",
    "    require(stringr)\n",
    "    if(str_sub(path, start = -1) == \"/\")\n",
    "        path = str_sub(path, start=0, end=-2)\n",
    "\n",
    "    if(!file.exists(path))\n",
    "        stop(paste(\"Path does not exist:\", path))\n",
    "\n",
    "    current.files <- list.files(path)\n",
    "    return_list = list()\n",
    "\n",
    "    if(length(current.files) == 1 && !(current.files %in% folders)){\n",
    "        cat(paste0(\"Genome used:  \", current.files[1], \"\\n\"))\n",
    "        return_list <- load.10x(paste0(path, \"/\", current.files[1]),  file.name=file.name, cellranger.version = cellranger.version)\n",
    "    }else{\n",
    "        for(dir in current.files){\n",
    "            if(dir %in% paste0(files, \".gz\") && cellranger.version == 3){\n",
    "                message(\"Unzip \", path, \"/\", dir)\n",
    "                system(paste0(\"gunzip \", path, \"/\", dir))\n",
    "            }\n",
    "        }\n",
    "    current.files <- list.files(path)\n",
    "\n",
    "    for(dir in current.files){\n",
    "        if(dir %in% files){\n",
    "                if(str_sub(dir, start=-3, end = -1) == \"mtx\"){\n",
    "                    require(Matrix)\n",
    "                    return_list[[dir]] <- readMM(paste0(path, \"/\", dir))\n",
    "                    cat(paste0(\"File in list \", path, \"/\", dir, \"\\n\"))\n",
    "                }else{\n",
    "                    return_list[[dir]] <- read.table(paste0(path, \"/\", dir))\n",
    "                    cat(paste0(\"File in list \", path, \"/\", dir, \"\\n\"))\n",
    "                }\n",
    "            }else{\n",
    "                if(dir %in% folders)\n",
    "                    return_list <- load.10x(path=paste0(path, \"/\", dir), file.name=file.name, cellranger.version = cellranger.version)\n",
    "            }\n",
    "        }\n",
    "    }\n",
    "\n",
    "    if(length(return_list) == 0)\n",
    "        stop(\"Could not identify 10x Stucture\")\n",
    "\n",
    "    return(return_list)\n",
    "\n",
    "}"
   ]
  },
  {
   "cell_type": "code",
   "execution_count": null,
   "metadata": {
    "vscode": {
     "languageId": "r"
    }
   },
   "outputs": [],
   "source": [
    "convertTo_cellgRNA_table <- function(matrix, threshold = 1){\n",
    "    rows <- rownames(matrix)\n",
    "    cols <- colnames(matrix)\n",
    "\n",
    "    cell_gRNA_tab <- data.frame(cell_barcode =  cols, stringsAsFactors = FALSE)\n",
    "    cell_gRNA_tab$gRNA <- sapply(cell_gRNA_tab$cell_barcode, function(x){\n",
    "        if(!(TRUE %in% (matrix[,x] >= threshold))) NA\n",
    "        else paste0(rows[matrix[,x] >= threshold], collapse =\"|\")\n",
    "    })\n",
    "    cell_gRNA_tab$ngRNA <- colSums(matrix >= threshold)\n",
    "\n",
    "    return(cell_gRNA_tab)\n",
    "\n",
    "}"
   ]
  },
  {
   "cell_type": "code",
   "execution_count": null,
   "metadata": {
    "vscode": {
     "languageId": "r"
    }
   },
   "outputs": [],
   "source": [
    "normalize_expression <- function(matrix, scaling=10000){\n",
    "    norm_matrix <- matrix(0, nrow=nrow(matrix), ncol=ncol(matrix))\n",
    "    rownames(norm_matrix) <- rownames(matrix)\n",
    "    colnames(norm_matrix) <- colnames(matrix)\n",
    "\n",
    "    lib_size <- colSums(matrix)\n",
    "    norm_matrix <- log2(1 + t(t(matrix)/lib_size) * scaling)\n",
    "\n",
    "    return(norm_matrix)\n",
    "}"
   ]
  },
  {
   "cell_type": "code",
   "execution_count": null,
   "metadata": {
    "vscode": {
     "languageId": "r"
    }
   },
   "outputs": [],
   "source": [
    "# Load 10X data from raw data\n",
    "files_10x <- load.10x(\"../data/raw/\", cellranger.version = 3)\n",
    "rownames(files_10x$matrix.mtx) <-  make.unique(as.vector(files_10x$features.tsv$V2))\n",
    "colnames(files_10x$matrix.mtx) <- files_10x$barcodes.tsv$V1"
   ]
  },
  {
   "cell_type": "code",
   "execution_count": null,
   "metadata": {
    "vscode": {
     "languageId": "r"
    }
   },
   "outputs": [],
   "source": [
    "# Load annotation data which used for alignment\n",
    "annotation <- read.csv(\"TH17_Signaturelibrary.csv\", sep=\"\\t\")"
   ]
  },
  {
   "cell_type": "code",
   "execution_count": null,
   "metadata": {
    "vscode": {
     "languageId": "r"
    }
   },
   "outputs": [],
   "source": [
    "# Matrix of gRNA names\n",
    "matrix_gRNA <- as.matrix(files_10x$matrix.mtx[paste0(\"gRNA_\", annotation$oligo_name, \"_gene\"),])\n",
    "\n",
    "# Matrix of gene expression with no gRNA\n",
    "matrix_regular <- as.matrix(files_10x$matrix.mtx[!(rownames(files_10x$matrix.mtx) %in%\n",
    "                                                   paste0(\"gRNA_\", annotation$oligo_name, \"_gene\")),])"
   ]
  },
  {
   "cell_type": "code",
   "execution_count": null,
   "metadata": {
    "vscode": {
     "languageId": "r"
    }
   },
   "outputs": [],
   "source": [
    "totalGeneCounts <- data.frame(rowSums(matrix_regular))\n",
    "totalGeneCounts$gene <- rownames(totalGeneCounts)\n",
    "colnames(totalGeneCounts) <- c(\"count\", \"gene\")\n",
    "totalGeneCounts <- totalGeneCounts[totalGeneCounts$count > 0,]\n",
    "write.csv(totalGeneCounts, sfile(csv, \"total_gene_count.csv\"))"
   ]
  },
  {
   "cell_type": "code",
   "execution_count": null,
   "metadata": {
    "vscode": {
     "languageId": "r"
    }
   },
   "outputs": [],
   "source": [
    "# Create data frame for gRNA ranking per cell\n",
    "gRNA_rank <- data.frame(rank=1:20)\n",
    "\n",
    "for (cell in colnames(matrix_gRNA)) {\n",
    "    buffer <- data.frame(count=head(sort(as.vector(matrix_gRNA[,cell]),\n",
    "                                                  decreasing = TRUE), 20))\n",
    "    colnames(buffer) <- c(cell)\n",
    "\n",
    "    gRNA_rank <- cbind(gRNA_rank, buffer)\n",
    "}\n",
    "\n",
    "rownames(gRNA_rank) <- gRNA_rank$rank\n",
    "gRNA_rank$rank <- NULL"
   ]
  },
  {
   "cell_type": "code",
   "execution_count": null,
   "metadata": {
    "vscode": {
     "languageId": "r"
    }
   },
   "outputs": [],
   "source": [
    "# gRNA rank stats\n",
    "gRNA_rowStats <- data.frame(rank=1:20,\n",
    "                            sum=as.vector(rowSums(gRNA_rank)),\n",
    "                            mean=as.vector(rowMeans(gRNA_rank)),\n",
    "                            std=rowSds(as.matrix(gRNA_rank)),\n",
    "                            median=as.vector(rowMedians(as.matrix(gRNA_rank))))"
   ]
  },
  {
   "cell_type": "code",
   "execution_count": null,
   "metadata": {
    "vscode": {
     "languageId": "r"
    }
   },
   "outputs": [],
   "source": [
    "gRNA_threshold <- 3\n",
    "ntotal <- length(colnames(gRNA_rank))\n",
    "\n",
    "# Cell need more than 1 read for a gRNA to be detected as gRNA cell\n",
    "unassigned <- gRNA_rank[,gRNA_rank[1,] <= gRNA_threshold]\n",
    "message(paste0(\"unassigned: \", length(colnames(unassigned)) / ntotal * 100,\n",
    "               \" (\", length(colnames(unassigned)), \")\"))\n",
    "\n",
    "assigned <- gRNA_rank[,gRNA_rank[1,] > gRNA_threshold]\n",
    "singlets <- assigned[,assigned[2,] <= gRNA_threshold]\n",
    "multiplets <- assigned[,assigned[2,] > gRNA_threshold]"
   ]
  },
  {
   "cell_type": "code",
   "execution_count": null,
   "metadata": {
    "vscode": {
     "languageId": "r"
    }
   },
   "outputs": [],
   "source": [
    "matrix_gRNA <- matrix_gRNA - gRNA_threshold\n",
    "matrix_gRNA[matrix_gRNA < 0] <- 0\n",
    "matrix_gRNA_singlets <- matrix_gRNA[,colSums(matrix_gRNA >= 1) == 1]"
   ]
  },
  {
   "cell_type": "code",
   "execution_count": null,
   "metadata": {
    "vscode": {
     "languageId": "r"
    }
   },
   "outputs": [],
   "source": [
    "# Save data\n",
    "saveRDS(matrix_gRNA, sfile(RData, \"matrix_gRNA.RDS\"))\n",
    "saveRDS(matrix_regular, sfile(RData, \"matrix_regular.RDS\"))\n",
    "saveRDS(matrix_gRNA_singlets, sfile(RData, \"matrix_gRNA_singlets.RDS\"))"
   ]
  },
  {
   "cell_type": "code",
   "execution_count": null,
   "metadata": {
    "vscode": {
     "languageId": "r"
    }
   },
   "outputs": [],
   "source": [
    "cell_gRNA_tab <- convertTo_cellgRNA_table(matrix_gRNA, threshold = 1)\n",
    "cell_gRNA_tab$nGene <- colSums(matrix_regular[,cell_gRNA_tab$cell_barcode] >= 1)\n",
    "cell_gRNA_tab$nUMI <- colSums(matrix_regular[,cell_gRNA_tab$cell_barcode])\n",
    "cell_gRNA_singlets_tab <- convertTo_cellgRNA_table(matrix_gRNA_singlets, threshold = 1)\n",
    "cell_gRNA_singlets_tab$gRNA_group <- sapply(cell_gRNA_singlets_tab$gRNA, function(x){\n",
    "    annotation[unlist(strsplit(unlist(strsplit(x, '_gene', fixed = TRUE)),\n",
    "                               \"gRNA_\", fixed=TRUE))[2] == annotation$oligo_name, \"group\"]\n",
    "})"
   ]
  },
  {
   "cell_type": "code",
   "execution_count": null,
   "metadata": {
    "vscode": {
     "languageId": "r"
    }
   },
   "outputs": [],
   "source": [
    "write.csv(cell_gRNA_tab, file=sfile(csv, \"cell_gRNA_tab.csv\"))\n",
    "write.csv(cell_gRNA_singlets_tab, file=sfile(csv, \"cell_gRNA_singlets_tab.csv\"))"
   ]
  },
  {
   "cell_type": "code",
   "execution_count": null,
   "metadata": {
    "vscode": {
     "languageId": "r"
    }
   },
   "outputs": [],
   "source": [
    "matrix_regular_gRNASinglets <- matrix_regular[,cell_gRNA_singlets_tab$cell_barcode]\n",
    "saveRDS(matrix_regular_gRNASinglets, file=sfile(RData, \"matrix_regular_gRNASinglets.RDS\"))"
   ]
  },
  {
   "cell_type": "code",
   "execution_count": null,
   "metadata": {
    "vscode": {
     "languageId": "r"
    }
   },
   "outputs": [],
   "source": [
    "\n",
    "percent_unique_gRNA <- vector()\n",
    "percent_multiple_gRNA <- vector()\n",
    "ncells <- vector()\n",
    "\n",
    "thresholds <- c(125, 250, 500, 1000, 2000, 3000, 4000, 5000)\n",
    "\n",
    "for(i in thresholds){\n",
    "    cells <- cell_gRNA_tab$cell_barcode[cell_gRNA_tab$nGene >= i]\n",
    "    ncells <- c(ncells, length(cells))\n",
    "\n",
    "    percent_unique_gRNA <- c(percent_unique_gRNA,\n",
    "        sum(cell_gRNA_tab$cell_barcode[cell_gRNA_tab$ngRNA == 1] %in% cells) / length(cells))\n",
    "    percent_multiple_gRNA <- c(percent_multiple_gRNA,\n",
    "        sum(cell_gRNA_tab$cell_barcode[cell_gRNA_tab$ngRNA > 1] %in% cells) / length(cells))\n",
    "}\n",
    "percent_not_assigned_gRNA <- 1 - (percent_unique_gRNA + percent_multiple_gRNA)\n",
    "\n",
    "library(reshape2)\n",
    "quality_genes_gRNA_melt <- melt(data.frame(threshold = factor(thresholds, levels=thresholds),\n",
    "           singlets = percent_unique_gRNA,\n",
    "           impurities = percent_multiple_gRNA,\n",
    "           not_assigned  = percent_not_assigned_gRNA), vars.id=\"threshold\")\n",
    "quality_genes_gRNA_melt$variable <- factor(quality_genes_gRNA_melt$variable,\n",
    "                                           levels=c(\"not_assigned\", \"singlets\", \"impurities\"))\n",
    "\n",
    "\n",
    "plot <- ggplot(quality_genes_gRNA_melt, aes(x=threshold, y=value*100, fill=variable)) +\n",
    "    geom_bar(stat=\"identity\") +\n",
    "    scale_fill_manual(values = c(\"darkblue\", \"peru\", \"darkgreen\")) +\n",
    "    labs(y=\"Percent of all cells\", x=\"Genes covered per cell\", fill=\"metric\") +\n",
    "    scale_y_continuous(limits=c(0, 100)) +\n",
    "    theme(legend.position = c(.7,.85))\n",
    "plot\n",
    "\n",
    "pdf(sfile(pdf, \"nGenes_gRNA_Assigned.pdf\"))\n",
    "plot\n",
    "dev.off()"
   ]
  },
  {
   "cell_type": "code",
   "execution_count": null,
   "metadata": {
    "vscode": {
     "languageId": "r"
    }
   },
   "outputs": [],
   "source": [
    "rownames(cell_gRNA_tab) <- cell_gRNA_tab$cell_barcode\n",
    "cell_gRNA_tab$gRNA_group <- NA\n",
    "cell_gRNA_tab[cell_gRNA_singlets_tab$cell_barcode, \"gRNA_group\"] <- as.vector(cell_gRNA_singlets_tab$gRNA_group)\n",
    "cell_gRNA_tab$gRNA_version <- NA\n",
    "cell_gRNA_tab[cell_gRNA_singlets_tab$cell_barcode, \"gRNA_version\"] <-\n",
    "    sapply(cell_gRNA_tab[cell_gRNA_singlets_tab$cell_barcode, \"gRNA\"],\n",
    "            function(x) return(unlist(strsplit(x, \"_\"))[2])\n",
    "    )"
   ]
  },
  {
   "cell_type": "code",
   "execution_count": null,
   "metadata": {
    "vscode": {
     "languageId": "r"
    }
   },
   "outputs": [],
   "source": [
    "# Export assignmet distribution\n",
    "gRNA_denstity <- data.frame(gRNAs= c(0:20),\n",
    "                            counts = c(sapply(0:20, function(x) nrow(cell_gRNA_tab[cell_gRNA_tab$ngRNA == x,]))))\n",
    "write.csv(gRNA_denstity, file=sfile(csv, \"assiged_gRNAs.csv\"))"
   ]
  },
  {
   "cell_type": "code",
   "execution_count": null,
   "metadata": {
    "vscode": {
     "languageId": "r"
    }
   },
   "outputs": [],
   "source": [
    "assignDistribution <- data.frame(groups = c(\"no gRNA\", \"single gRNA\", \"multiple gRNA\"), \n",
    "                                counts = c(nrow(cell_gRNA_tab[cell_gRNA_tab$ngRNA == 0,]),\n",
    "    nrow(cell_gRNA_tab[cell_gRNA_tab$ngRNA == 1,]),\n",
    "    nrow(cell_gRNA_tab[cell_gRNA_tab$ngRNA > 1,])))"
   ]
  },
  {
   "cell_type": "code",
   "execution_count": null,
   "metadata": {
    "vscode": {
     "languageId": "r"
    }
   },
   "outputs": [],
   "source": [
    "# Plot assignment piechart\n",
    "percent <- function(x) {\n",
    "    return(paste0(round(x * 100, 1), \"%\"))\n",
    "}\n",
    "\n",
    "plot <- ggplot(assignDistribution, aes(x=\"\", y=counts, fill=groups))+\n",
    "    geom_bar(width = 1, stat = \"identity\") + coord_polar(\"y\", start=0) + theme_minimal()+\n",
    "    labs(x = NULL, y = NULL, fill = NULL, title = \"10X + Primer\") +\n",
    "    theme(axis.title.x = element_blank(),\n",
    "          axis.title.y = element_blank(),\n",
    "          panel.border = element_blank(),\n",
    "          plot.title = element_text(hjust = 0.5,size=20, color = \"black\"),\n",
    "          panel.grid=element_blank(),\n",
    "          axis.ticks = element_blank()) +\n",
    "    theme(axis.text.x=element_blank()) +\n",
    "    geom_text(aes(label = percent(counts/sum(counts))),\n",
    "              position = position_stack(vjust = 0.5),\n",
    "              size=5) +\n",
    "    scale_fill_manual(values=c(\"#9ecae2\", \"#deebf7\", \"#3281bd\"))\n",
    "\n",
    "\n",
    "plot\n",
    "\n",
    "pdf(sfile(pdf, \"gRNA_assigned_distribution_PieChart.pdf\"), useDingbats = FALSE, width=7, height= 7)\n",
    "plot\n",
    "dev.off()"
   ]
  },
  {
   "cell_type": "code",
   "execution_count": null,
   "metadata": {
    "vscode": {
     "languageId": "r"
    }
   },
   "outputs": [],
   "source": [
    "seu.singlets <- CreateSeuratObject(counts = matrix_regular_gRNASinglets, project = analysis)\n",
    "seu.singlets@meta.data[cell_gRNA_singlets_tab$cell_barcode, \"gRNA_group\"] <- cell_gRNA_singlets_tab$gRNA_group"
   ]
  },
  {
   "cell_type": "code",
   "execution_count": null,
   "metadata": {
    "vscode": {
     "languageId": "r"
    }
   },
   "outputs": [],
   "source": [
    "#Add gRNA_Information to seurat object\n",
    "seu.singlets@meta.data$gRNA <- NA\n",
    "seu.singlets@meta.data[cell_gRNA_singlets_tab$cell_barcode, \"gRNA\"] <-\n",
    "    cell_gRNA_singlets_tab$gRNA\n",
    "seu.singlets@meta.data$gRNA_group <- NA\n",
    "seu.singlets@meta.data[cell_gRNA_singlets_tab$cell_barcode, \"gRNA_group\"] <-\n",
    "    as.vector(cell_gRNA_singlets_tab$gRNA_group)"
   ]
  },
  {
   "cell_type": "code",
   "execution_count": null,
   "metadata": {
    "vscode": {
     "languageId": "r"
    }
   },
   "outputs": [],
   "source": [
    "# Calculating percentage of mitochondrial genes\n",
    "mt.genes.idx <- grep('mt-', rownames(seu.singlets)) \n",
    "mt.genes.per <- Matrix::colSums(seu.singlets[mt.genes.idx,])/Matrix::colSums(seu.singlets)\n",
    "seu.singlets <- AddMetaData(seu.singlets, metadata=mt.genes.per, col.name='mito.percent')"
   ]
  },
  {
   "cell_type": "code",
   "execution_count": null,
   "metadata": {
    "vscode": {
     "languageId": "r"
    }
   },
   "outputs": [],
   "source": [
    "# Isolate cells\n",
    "seu.singlets <- subset(seu.singlets, subset = nFeature_RNA > 100 & mito.percent < 0.1)\n",
    "\n",
    "# Remove MITO genes\n",
    "seu.singlets <- seu.singlets[-mt.genes.idx, ]"
   ]
  },
  {
   "cell_type": "code",
   "execution_count": null,
   "metadata": {
    "vscode": {
     "languageId": "r"
    }
   },
   "outputs": [],
   "source": [
    "freq_gRNA <- data.frame(table(seu.singlets@meta.data$gRNA))\n",
    "keep_cells <- rownames(seu.singlets@meta.data)[seu.singlets@meta.data$gRNA %in%\n",
    "                                               as.vector(freq_gRNA[freq_gRNA$Freq >= 10, \"Var1\"])]"
   ]
  },
  {
   "cell_type": "code",
   "execution_count": null,
   "metadata": {
    "vscode": {
     "languageId": "r"
    }
   },
   "outputs": [],
   "source": [
    "seu.singlets <- subset(seu.singlets, cells = keep_cells)"
   ]
  },
  {
   "cell_type": "code",
   "execution_count": null,
   "metadata": {
    "vscode": {
     "languageId": "r"
    }
   },
   "outputs": [],
   "source": [
    "seu.singlets <- ScaleData(object = seu.singlets, verbose = FALSE)"
   ]
  },
  {
   "cell_type": "code",
   "execution_count": null,
   "metadata": {
    "vscode": {
     "languageId": "r"
    }
   },
   "outputs": [],
   "source": [
    "seu.singlets <- NormalizeData(seu.singlets, normalization.method = \"LogNormalize\", scale.factor = 10000)"
   ]
  },
  {
   "cell_type": "code",
   "execution_count": null,
   "metadata": {
    "vscode": {
     "languageId": "r"
    }
   },
   "outputs": [],
   "source": [
    "seu.singlets <- FindVariableFeatures(seu.singlets, selection.method = \"vst\", nfeatures = 2000)"
   ]
  },
  {
   "cell_type": "code",
   "execution_count": null,
   "metadata": {
    "vscode": {
     "languageId": "r"
    }
   },
   "outputs": [],
   "source": [
    "seu.singlets <- RunPCA(object = seu.singlets, npcs = 30, verbose = FALSE)"
   ]
  },
  {
   "cell_type": "code",
   "execution_count": null,
   "metadata": {
    "vscode": {
     "languageId": "r"
    }
   },
   "outputs": [],
   "source": [
    "seu.singlets <- RunUMAP(object = seu.singlets,\n",
    "                                   reduction = \"pca\", \n",
    "                                   dims = 1:30, verbose = FALSE)"
   ]
  },
  {
   "cell_type": "code",
   "execution_count": null,
   "metadata": {
    "vscode": {
     "languageId": "r"
    }
   },
   "outputs": [],
   "source": [
    "seu.singlets <- FindNeighbors(seu.singlets, dims = 1:10)\n",
    "seu.singlets <- FindClusters(seu.singlets, resolution = 0.5)"
   ]
  },
  {
   "cell_type": "code",
   "execution_count": null,
   "metadata": {
    "vscode": {
     "languageId": "r"
    }
   },
   "outputs": [],
   "source": [
    "cc.genes <- readLines(con = file.path(external, \"regev_lab_cell_cycle_genes.txt\"))\n",
    "s.genes <- stri_trans_totitle(cc.genes[1:43])\n",
    "g2m.genes <- stri_trans_totitle(cc.genes[44:97])\n",
    "\n",
    "seu.singlets <- CellCycleScoring(object = seu.singlets,\n",
    "                                 s.features = s.genes,\n",
    "                                 g2m.features = g2m.genes,\n",
    "                                 set.ident = TRUE)"
   ]
  },
  {
   "cell_type": "code",
   "execution_count": null,
   "metadata": {
    "vscode": {
     "languageId": "r"
    }
   },
   "outputs": [],
   "source": [
    "Freq_phase_data <- data.frame(table(seu.singlets@meta.data[which(\n",
    "                                seu.singlets@meta.data$gRNA_group == \"control\"), \"Phase\"]),\n",
    "           group=rep(\"control\",3))\n",
    "\n",
    "for(gR_group in names(table(seu.singlets@meta.data$gRNA_group))){\n",
    "    if(gR_group == \"control\") next\n",
    "    current_table <- table(seu.singlets@meta.data[which(\n",
    "                                seu.singlets@meta.data$gRNA_group == gR_group),\"Phase\"])\n",
    "\n",
    "    current_group <- data.frame(current_table,\n",
    "                               group=rep(gR_group, length(current_table)))\n",
    "\n",
    "    Freq_phase_data <- rbind(Freq_phase_data, current_group)\n",
    "}\n",
    "\n",
    "\n",
    "p1 <- ggplot(Freq_phase_data, aes(group, Freq, fill=Var1)) +\n",
    "geom_bar(position = position_fill(reverse = TRUE), stat=\"Identity\", color=\"black\") +\n",
    "labs(x=\"\", y=\"\", fill=\"Cluster\") +\n",
    "theme(axis.text.x = element_text(angle=90, hjust = 1), axis.text.y = element_text(size=4))\n",
    "\n",
    "p2 <- ggplot(Freq_phase_data, aes(group, Freq, fill=Var1)) +\n",
    "geom_bar(position = position_stack(reverse = TRUE), stat=\"Identity\", color=\"black\") +\n",
    "labs(x=\"\", y=\"\", fill=\"Phase\") +\n",
    "theme(axis.text.x = element_text(angle=90, hjust = 1), axis.text.y = element_text(size=4))\n",
    "\n",
    "p2 + p1\n",
    "\n",
    "pdf(sfile(pdf, \"Ratio_gRNA_groups_Phase.pdf\"))\n",
    "grid.arrange(p2, p1, ncol=1)\n",
    "dev.off()"
   ]
  },
  {
   "cell_type": "code",
   "execution_count": null,
   "metadata": {
    "vscode": {
     "languageId": "r"
    }
   },
   "outputs": [],
   "source": [
    "seu.singlets <- seu.singlets[,seu.singlets@meta.data$Phase == \"G1\"]"
   ]
  },
  {
   "cell_type": "code",
   "execution_count": null,
   "metadata": {
    "vscode": {
     "languageId": "r"
    }
   },
   "outputs": [],
   "source": [
    "# Recompute PCA\n",
    "seu.singlets <- FindVariableFeatures(seu.singlets, selection.method = \"vst\", nfeatures = 2000)\n",
    "seu.singlets <- RunPCA(object = seu.singlets, npcs = 30, verbose = FALSE)\n",
    "\n",
    "# Cluster analysis and UMAP\n",
    "seu.singlets <- RunUMAP(object = seu.singlets,\n",
    "                                   reduction = \"pca\",\n",
    "                                   dims = 1:30, verbose = FALSE)\n",
    "\n",
    "# Recompute clustering\n",
    "seu.singlets <- FindNeighbors(seu.singlets, dims = 1:10, verbose=FALSE)\n",
    "seu.singlets <- FindClusters(seu.singlets, resolution = 0.5, verbose=FALSE)"
   ]
  },
  {
   "cell_type": "code",
   "execution_count": null,
   "metadata": {
    "vscode": {
     "languageId": "r"
    }
   },
   "outputs": [],
   "source": [
    "plot1 <- DimPlot(seu.singlets, reduction = \"umap\", group.by=\"seurat_clusters\", label=FALSE, pt.size = 1) + \n",
    "    theme(aspect.ratio=1) + coord_fixed()\n",
    "\n",
    "\n",
    "pdf(sfile(pdf, \"ClusterAnalysis_onlyG1_UMAP_plot.pdf\"))\n",
    "plot1\n",
    "dev.off()\n",
    "\n",
    "plot1"
   ]
  },
  {
   "cell_type": "code",
   "execution_count": null,
   "metadata": {
    "vscode": {
     "languageId": "r"
    }
   },
   "outputs": [],
   "source": [
    "# Load score genes\n",
    "Th17_genes <- c(\"Rorc\", \"Il17a\", \"Il17f\", \"Il23r\", \"Il6ra\", \"Il22\", \"Ccr6\")\n",
    "\n",
    "Th1_genes <- c(\"Tbx21\", \"Ifng\", \"Ccr5\", \"Ccl5\", \"Cxcr3\", \"Il12rb1\")\n",
    "\n",
    "Treg_genes <- c(\"Lag3\", \"Havcr2\", \"Pdcd1\", \"Ctla4\", \"Itga2\",\n",
    "                \"Foxp3\", \"Maf\", \"Irf1\", \"Batf\",\n",
    "                \"Il12rb2\", \"Tnfrsf18\", \"Nfil3\", \"Ahr\", \"Rora\",\"Il2ra\", \"Icos\")"
   ]
  },
  {
   "cell_type": "code",
   "execution_count": null,
   "metadata": {
    "vscode": {
     "languageId": "r"
    }
   },
   "outputs": [],
   "source": [
    "seu.singlets <- AddModuleScore(seu.singlets,\n",
    "                                          ctrl = 50,\n",
    "                               name = 'Th17_Sig',\n",
    "                               features = list(Th17_genes))\n",
    "\n",
    "seu.singlets <- AddModuleScore(seu.singlets,\n",
    "                                          ctrl = 50,\n",
    "                               name = 'Th1_Sig',\n",
    "                               features = list(Th1_genes))\n",
    "\n",
    "seu.singlets <- AddModuleScore(seu.singlets,\n",
    "                                          ctrl = 50,\n",
    "                               name = 'Treg_Sig',\n",
    "                               features = list(Treg_genes))\n"
   ]
  },
  {
   "cell_type": "code",
   "execution_count": null,
   "metadata": {
    "vscode": {
     "languageId": "r"
    }
   },
   "outputs": [],
   "source": [
    "plot1 <- VlnPlot(seu.singlets, features = c(\"Th17_Sig1\"), sort = FALSE, pt.size = 0) +\n",
    "            stat_summary(fun = median, geom='point', size = 25, colour = \"black\", shape = 95) +\n",
    "            NoLegend()\n",
    "\n",
    "plot2 <- VlnPlot(seu.singlets, features = c(\"Th1_Sig1\"), sort = FALSE, pt.size = 0) +\n",
    "            stat_summary(fun = median, geom='point', size = 25, colour = \"black\", shape = 95) +\n",
    "            NoLegend()\n",
    "plot3 <- VlnPlot(seu.singlets, features = c(\"Treg_Sig1\"), sort = FALSE, pt.size = 0) +\n",
    "            stat_summary(fun = median, geom='point', size = 25, colour = \"black\", shape = 95) +\n",
    "            NoLegend()\n",
    "\n",
    "plot1\n",
    "plot2\n",
    "plot3\n",
    "\n",
    "\n",
    "pdf(sfile(pdf, \"Signature_scores.pdf\"), width=6, height=18)\n",
    "plot1 + plot2 + plot3\n",
    "dev.off()"
   ]
  },
  {
   "cell_type": "code",
   "execution_count": null,
   "metadata": {
    "vscode": {
     "languageId": "r"
    }
   },
   "outputs": [],
   "source": [
    "plot <- FeaturePlot(seu.singlets, features = c(\"Th17_Sig1\", \"Th1_Sig1\", \"Treg_Sig1\"), pt.size = 0.5)\n",
    "\n",
    "plot\n",
    "\n",
    "pdf(sfile(pdf, \"FeaturePlot_allSignatureScores_allCells.pdf\"))\n",
    "plot\n",
    "dev.off()"
   ]
  },
  {
   "cell_type": "code",
   "execution_count": null,
   "metadata": {
    "vscode": {
     "languageId": "r"
    }
   },
   "outputs": [],
   "source": [
    "Th17_barcodes <- rownames(seu.singlets@meta.data[seu.singlets@meta.data$seurat_clusters %in% c(2) &\n",
    "                                                 seu.singlets@meta.data$gRNA_group == \"control\",])\n",
    "Th1_barcodes <- rownames(seu.singlets@meta.data[seu.singlets@meta.data$seurat_clusters %in% c(3) &\n",
    "                                                seu.singlets@meta.data$gRNA_group == \"control\",])\n",
    "Treg_barcodes <- rownames(seu.singlets@meta.data[seu.singlets@meta.data$seurat_clusters %in% c(4) &\n",
    "                                                 seu.singlets@meta.data$gRNA_group == \"control\",])"
   ]
  },
  {
   "cell_type": "code",
   "execution_count": null,
   "metadata": {
    "vscode": {
     "languageId": "r"
    }
   },
   "outputs": [],
   "source": [
    "groups <- unique(seu.singlets@meta.data$gRNA_group)"
   ]
  },
  {
   "cell_type": "code",
   "execution_count": null,
   "metadata": {
    "vscode": {
     "languageId": "r"
    }
   },
   "outputs": [],
   "source": [
    "get_UMAP_Median_by_cells <- function(seuObj, cells, group) {\n",
    "    seuSubset <- subset(seuObj, cells = cells)\n",
    "    umapSubset <- data.frame(Embeddings(seuSubset, reduction = \"umap\"))\n",
    "    return(data.frame(group = group,\n",
    "                      umap1 = median(umapSubset$UMAP_1),\n",
    "                      umap2 = median(umapSubset$UMAP_2),\n",
    "                      counts = length(rownames(seuSubset@meta.data))))\n",
    "}"
   ]
  },
  {
   "cell_type": "code",
   "execution_count": null,
   "metadata": {
    "vscode": {
     "languageId": "r"
    }
   },
   "outputs": [],
   "source": [
    "getControlGroupLines <- function(umapMedians) {\n",
    "    centerControl <- umapMedians[umapMedians$group == \"control\",]\n",
    "\n",
    "    controlCoords <- data.frame()\n",
    "    transDiffSubet <- subset(umapMedians, grepl(\"_control$\", group))\n",
    "\n",
    "    for (group in transDiffSubet$group) {\n",
    "        targetControl <- umapMedians[umapMedians$group == group,]\n",
    "\n",
    "        controlCoords <- rbind(controlCoords, data.frame(x1=centerControl$umap1,\n",
    "                                                         y1=centerControl$umap2,\n",
    "                                                         x2=targetControl$umap1,\n",
    "                                                         y2=targetControl$umap2))\n",
    "    }\n",
    "    return(controlCoords)\n",
    "}"
   ]
  },
  {
   "cell_type": "code",
   "execution_count": null,
   "metadata": {
    "vscode": {
     "languageId": "r"
    }
   },
   "outputs": [],
   "source": [
    "UMAP_Medians <- data.frame()\n",
    "\n",
    "for (g in 1:length(groups)) {\n",
    "    if (groups[g] != \"control\") {\n",
    "        UMAP_Medians <- rbind(UMAP_Medians, get_UMAP_Median_by_cells(seuObj = seu.singlets,\n",
    "                           cells = rownames(seu.singlets@meta.data[\n",
    "                              seu.singlets@meta.data$gRNA_group == groups[g],]),\n",
    "                           group = groups[g]))\n",
    "    }\n",
    "}\n",
    "\n",
    "# Add UMAP Median for control subsets\n",
    "UMAP_Medians <- rbind(UMAP_Medians, get_UMAP_Median_by_cells(seuObj = seu.singlets,\n",
    "                             cells = Th17_barcodes,\n",
    "                             group = \"Th17_control\"))\n",
    "\n",
    "\n",
    "UMAP_Medians <- rbind(UMAP_Medians, get_UMAP_Median_by_cells(seuObj = seu.singlets,\n",
    "                             cells = Th1_barcodes,\n",
    "                             group = \"Th1_control\"))\n",
    "\n",
    "\n",
    "UMAP_Medians <- rbind(UMAP_Medians, get_UMAP_Median_by_cells(seuObj = seu.singlets,\n",
    "                             cells = Treg_barcodes,\n",
    "                             group = \"Treg_control\"))\n",
    "\n",
    "\n",
    "# All control subset\n",
    "UMAP_Medians <- rbind(UMAP_Medians, get_UMAP_Median_by_cells(seuObj = seu.singlets,\n",
    "                             cells = rownames(seu.singlets@meta.data[seu.singlets@meta.data$gRNA_group == \"control\",]),\n",
    "                             group = \"control\"))\n",
    "\n",
    "\n",
    "\n",
    "library(ggrepel)\n",
    "\n",
    "ggtheme <- theme(plot.title = element_text(face = 'bold',size = 18, hjust = 0.5),\n",
    "    axis.title = element_text(size=8),\n",
    "    axis.text = element_text(size=8),\n",
    "    legend.position=\"none\")\n",
    "\n",
    "\n",
    "p1 <- ggplot(UMAP_Medians, aes(umap1, umap2)) +\n",
    "    geom_segment(data=getControlGroupLines(UMAP_Medians),\n",
    "                 aes(x = x1, y = y1, xend = x2, yend = y2),\n",
    "                 color=\"#cccccc\",\n",
    "                 lineend=\"round\", linejoin=\"round\",\n",
    "                 arrow=arrow(length = unit(0.1, \"inches\")),\n",
    "                 size=1) +\n",
    "    geom_point(aes(size=counts), color=\"black\") +\n",
    "    geom_point(data = subset(UMAP_Medians, grepl(\"_control$\", group)),\n",
    "               color=\"blue\",\n",
    "               aes(umap1, umap2, size=counts)) +\n",
    "    geom_point(data = subset(UMAP_Medians, grepl(\"^control$\", group)),\n",
    "               color=\"red\",\n",
    "               aes(umap1, umap2, size=counts)) +\n",
    "    labs(x=\"UMAP_1\", y=\"UMAP_2\", title=\"UMAP Medians per gRNA group\") +\n",
    "    geom_label_repel(aes(label=group), size=2.5, alpha=.7, max.overlaps = 15) +\n",
    "    theme_classic() + theme(aspect.ratio=1) + coord_fixed()\n",
    "\n",
    "p1\n",
    "\n",
    "pdf(sfile(pdf, \"UMAP_median_bygRNA_group.pdf\"), useDingbats = FALSE, width=6, height=6)\n",
    "p1\n",
    "dev.off()\n"
   ]
  },
  {
   "cell_type": "code",
   "execution_count": null,
   "metadata": {
    "vscode": {
     "languageId": "r"
    }
   },
   "outputs": [],
   "source": [
    "groups <- unique(seu.singlets@meta.data$gRNA_group)\n",
    "\n",
    "pdf(sfile(pdf, \"gRNAGroups_UMAP_Highlight.pdf\"), useDingbats = FALSE, height=5, width=5)\n",
    "\n",
    "for(g in groups){\n",
    "    pos <- rownames(seu.singlets@meta.data[seu.singlets@meta.data$gRNA_group == g,])\n",
    "\n",
    "    print(DimPlot(seu.singlets, reduction = \"umap\", cells.highlight = pos, sizes.highlight=1.5) +\n",
    "    theme(aspect.ratio=1,\n",
    "           legend.position = \"none\",\n",
    "         axis.ticks = element_blank(),\n",
    "         axis.text = element_blank()) + labs(title=g))\n",
    "}\n",
    "dev.off()\n"
   ]
  },
  {
   "cell_type": "code",
   "execution_count": null,
   "metadata": {
    "vscode": {
     "languageId": "r"
    }
   },
   "outputs": [],
   "source": [
    "saveRDS(seu.singlets, sfile(RData, \"seurat_Singlets.rds\"))"
   ]
  },
  {
   "cell_type": "code",
   "execution_count": null,
   "metadata": {
    "vscode": {
     "languageId": "r"
    }
   },
   "outputs": [],
   "source": [
    "# Seurat object is then converted to h5ad object using SeuratDisk\n",
    "# See https://mojaveazure.github.io/seurat-disk/articles/convert-anndata.html"
   ]
  }
 ],
 "metadata": {
  "kernelspec": {
   "display_name": "R",
   "language": "R",
   "name": "ir"
  },
  "language_info": {
   "codemirror_mode": "r",
   "file_extension": ".r",
   "mimetype": "text/x-r-source",
   "name": "R",
   "pygments_lexer": "r",
   "version": "4.0.3"
  }
 },
 "nbformat": 4,
 "nbformat_minor": 4
}
